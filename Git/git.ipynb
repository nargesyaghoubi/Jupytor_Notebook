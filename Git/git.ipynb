{
 "cells": [
  {
   "cell_type": "markdown",
   "id": "b0aeac65-5efa-4080-9d9b-5441c114426b",
   "metadata": {},
   "source": [
    "![Git](data:image/png;base64,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)"
   ]
  },
  {
   "cell_type": "markdown",
   "id": "c733c45e-3161-4220-8d2a-b5a6f61dc646",
   "metadata": {},
   "source": [
    "\n",
    "\n",
    "**Git Notes for Professionals**\n",
    "\n"
   ]
  },
  {
   "cell_type": "markdown",
   "id": "17537a1d-a528-4059-a947-9fa596c53cc4",
   "metadata": {},
   "source": [
    "# Chapter 1: Getting started with Git"
   ]
  },
  {
   "cell_type": "markdown",
   "id": "f6a82b9c-cd25-4e1a-a120-79e01ec4c419",
   "metadata": {},
   "source": [
    "**Section 1.1:** *Create your first repository, then add and commit\n",
    "files*"
   ]
  },
  {
   "cell_type": "markdown",
   "id": "1b96feb4-b9d6-4f25-9142-04a297b7e925",
   "metadata": {},
   "source": [
    "At the command line, first verify that you have Git installed:\n",
    "On all operating systems:\n"
   ]
  },
  {
   "cell_type": "markdown",
   "id": "a0469f2e-762e-4f62-909e-c55889c59fce",
   "metadata": {},
   "source": [
    "`git --version`"
   ]
  },
  {
   "cell_type": "markdown",
   "id": "0dd62150-099d-4293-a45e-f64c58c6013f",
   "metadata": {},
   "source": [
    "On UNIX-like operating systems:"
   ]
  },
  {
   "cell_type": "markdown",
   "id": "c49c6956-6930-4b8d-9b5c-e5d31e7adcce",
   "metadata": {},
   "source": [
    "`which git`"
   ]
  },
  {
   "cell_type": "markdown",
   "id": "54067113-b580-49a0-881c-772bcc65a870",
   "metadata": {},
   "source": [
    ">If nothing is returned, or the command is not recognized, you may have to install Git on your system by\n",
    "downloading and running the installer. See the Git homepage for exceptionally clear and easy installation\n",
    "instructions."
   ]
  },
  {
   "cell_type": "markdown",
   "id": "1205bf9f-3dee-4403-8875-6a0905e69da5",
   "metadata": {},
   "source": [
    "After installing Git, configure your username and email address. Do this before making a commit.\n",
    "Once Git is installed, navigate to the directory you want to place under version control and create an empty Git\n",
    "repository"
   ]
  },
  {
   "cell_type": "markdown",
   "id": "5590dff5-7bb6-4e1a-9a5a-4144040d86d8",
   "metadata": {},
   "source": [
    "`git init`"
   ]
  },
  {
   "cell_type": "markdown",
   "id": "e7d06f0a-5d72-4783-a7c0-e5902bef3bd3",
   "metadata": {},
   "source": [
    "This creates a hidden folder, .git, which contains the plumbing needed for Git to work.\n",
    "\n",
    "Next, check what files Git will add to your new repository; this step is worth special care:"
   ]
  },
  {
   "cell_type": "markdown",
   "id": "eac3311c-4950-46c0-8465-492611da67fe",
   "metadata": {},
   "source": [
    "`git status`"
   ]
  },
  {
   "cell_type": "markdown",
   "id": "8ad67b96-9eb6-49f4-b7c0-f5174240124b",
   "metadata": {},
   "source": [
    "Review the resulting list of files; you can tell Git which of the files to place into version control (avoid adding files\n",
    "with confidential information such as passwords, or files that just clutter the repo):"
   ]
  },
  {
   "cell_type": "markdown",
   "id": "45632146-f4e3-413a-a11e-4d624338c89d",
   "metadata": {},
   "source": [
    "`git add` <file/directory name #1> <file/directory name #2> < ... >"
   ]
  },
  {
   "cell_type": "markdown",
   "id": "3748b7b7-6d7a-429f-9dbb-971a96af740e",
   "metadata": {},
   "source": [
    "If all files in the list should be shared with everyone who has access to the repository, a single command will add\n",
    "everything in your current directory and its subdirectories:"
   ]
  },
  {
   "cell_type": "markdown",
   "id": "80019242-ed95-46f7-8508-50f370f8f140",
   "metadata": {},
   "source": [
    "`git add .`"
   ]
  },
  {
   "cell_type": "markdown",
   "id": "02107ab4-3277-4aa7-9b80-7074e6d8d63c",
   "metadata": {},
   "source": [
    "This will \"stage\" all files to be added to version control, preparing them to be committed in your first commit.\n",
    "\n",
    "For files that you want never under version control, create and populate a file named .gitignore before running\n",
    "the add command.\n",
    "\n",
    "Commit all the files that have been added, along with a commit message:\n"
   ]
  },
  {
   "cell_type": "markdown",
   "id": "daf74e98-364f-41f5-9084-c429761aa5ef",
   "metadata": {},
   "source": [
    "`git commit -m \"Initial commit\"`"
   ]
  },
  {
   "cell_type": "markdown",
   "id": "4bd8f64a-17b5-4198-86d9-70eb52c8947d",
   "metadata": {},
   "source": [
    "This creates a new commit with the given message. A commit is like a save or snapshot of your entire project. You\n",
    "can now push, or upload, it to a remote repository, and later you can jump back to it if necessary.\n",
    "\n",
    "If you omit the -m parameter, your default editor will open and you can edit and save the commit message there.\n"
   ]
  },
  {
   "cell_type": "markdown",
   "id": "dc9f5c28-bcc7-4407-babe-ec22afb049e8",
   "metadata": {},
   "source": [
    "Adding a remote"
   ]
  },
  {
   "cell_type": "markdown",
   "id": "23933174-e689-4b1a-90cd-d819ff0a4275",
   "metadata": {},
   "source": [
    "To add a new remote, use the **git remote** add command on the terminal, in the directory your repository is stored\n",
    "at."
   ]
  },
  {
   "cell_type": "markdown",
   "id": "2648d2b8-3307-4a70-bc9d-37e0707fef54",
   "metadata": {},
   "source": [
    "The **git remote** add command takes two arguments:"
   ]
  },
  {
   "cell_type": "markdown",
   "id": "faf7ad1c-bfa6-42a9-9bd4-1e57a37d7f0d",
   "metadata": {},
   "source": [
    "1. A remote name, for example, origin\n",
    "2. A remote URL, for example, `https://<your-git-service-address>/user/repo.git`"
   ]
  },
  {
   "cell_type": "markdown",
   "id": "ad3551c8-ec2f-488d-aaa1-c11815006583",
   "metadata": {},
   "source": [
    "`git remote add origin https://<your-git-service-address>/owner/repository.git`"
   ]
  },
  {
   "cell_type": "markdown",
   "id": "6a7c8332-d005-407e-8c2e-1d07189d0889",
   "metadata": {},
   "source": [
    ">NOTE: Before adding the remote you have to create the required repository in your git service, You'll be able to\n",
    "push/pull commits after adding your remote."
   ]
  },
  {
   "cell_type": "markdown",
   "id": "9e500487-ade1-4cdf-91ea-0be0bbecde30",
   "metadata": {},
   "source": [
    "---\n",
    "\n",
    "**Section 1.2:** *Clone a repository*"
   ]
  },
  {
   "cell_type": "markdown",
   "id": "fd6a49be-69f0-4b23-a966-122a6b79bfcf",
   "metadata": {},
   "source": [
    "The git clone command is used to copy an existing Git repository from a server to the local machine.\n",
    "    \n",
    "For example, to clone a GitHub project:\n"
   ]
  },
  {
   "cell_type": "markdown",
   "id": "1a1d6887-b10e-4b8e-b8ef-dc519186caf6",
   "metadata": {},
   "source": [
    "`cd <path where you would like the clone to create a directory>`\n",
    "\n",
    "`git clone https://github.com/username/projectname.git`"
   ]
  },
  {
   "cell_type": "markdown",
   "id": "b7080528-075b-42a6-a0d2-f025edfba106",
   "metadata": {},
   "source": [
    "To clone a BitBucket project:\n"
   ]
  },
  {
   "cell_type": "markdown",
   "id": "fac8a952-d5e5-433a-9de1-b78d2efb75bc",
   "metadata": {},
   "source": [
    "`cd <path where you would like the clone to create a directory>`\n",
    "\n",
    "`git clone https://yourusername@bitbucket.org/username/projectname.git`"
   ]
  },
  {
   "cell_type": "markdown",
   "id": "093edaa8-8d83-48f8-94c2-f93c135749fc",
   "metadata": {},
   "source": [
    "This creates a directory called projectname on the local machine, containing all the files in the remote Git\n",
    "repository.\n",
    "\n",
    "This includes source files for the project, as well as a .git sub-directory which contains the entire\n",
    "history and configuration for the project.\n"
   ]
  },
  {
   "cell_type": "markdown",
   "id": "d0ae486e-c32b-42e3-bbb2-325290db8041",
   "metadata": {},
   "source": [
    "To specify a different name of the directory, e.g. MyFolder:\n"
   ]
  },
  {
   "cell_type": "markdown",
   "id": "532fc1e3-8185-49b4-9c92-84bc95447249",
   "metadata": {},
   "source": [
    "`git clone https://github.com/username/projectname.git MyFolder`"
   ]
  },
  {
   "cell_type": "markdown",
   "id": "10e216ed-93f5-410e-b586-107f6655f989",
   "metadata": {},
   "source": [
    "Or to clone in the current directory:\n"
   ]
  },
  {
   "cell_type": "markdown",
   "id": "7c9e1579-a03c-4ec2-8fd3-9d589114c8d2",
   "metadata": {},
   "source": [
    "`git clone https://github.com/username/projectname.git .`"
   ]
  },
  {
   "cell_type": "markdown",
   "id": "8ca9a734-0ac2-4e51-b65d-9b7f42fdcf88",
   "metadata": {},
   "source": [
    "**Note:**\n",
    "1. When cloning to a specified directory, the directory must be empty or non-existent.\n",
    "2. You can also use the ssh version of the command:"
   ]
  },
  {
   "cell_type": "markdown",
   "id": "c1941252-dde9-420f-8558-2f081ece16dd",
   "metadata": {},
   "source": [
    "`git clone git@github.com:username/projectname.git`"
   ]
  },
  {
   "cell_type": "markdown",
   "id": "84ee44be-0e70-4475-bc6a-d981859b14fd",
   "metadata": {},
   "source": [
    "The https version and the **ssh** version are equivalent. However, some hosting services such as GitHub *recommend*\n",
    "that you use https rather than **ssh**."
   ]
  },
  {
   "cell_type": "markdown",
   "id": "00b8e146-3427-499a-b193-aa4b5ba641c4",
   "metadata": {},
   "source": [
    "---"
   ]
  },
  {
   "cell_type": "markdown",
   "id": "8499458b-fb3d-4f3e-9d0d-632eedbf2f9f",
   "metadata": {},
   "source": [
    "**Section 1.3:** *Sharing code*\n"
   ]
  },
  {
   "cell_type": "markdown",
   "id": "a15892ca-54b4-49ec-a4bb-61444bb3ba0c",
   "metadata": {},
   "source": [
    "To share your code you create a repository on a remote server to which you will copy your local repository.\n",
    "\n",
    "To minimize the use of space on the remote server you create a bare repository:\n",
    "one which has only the `.git`\n",
    "objects and doesn't create a working copy in the filesystem.\n",
    "\n",
    "As a bonus you set this remote as an upstream server\n",
    "to easily share updates with other programmers."
   ]
  },
  {
   "cell_type": "markdown",
   "id": "abc45ca7-4d4c-44d4-a893-4f3c91d4360d",
   "metadata": {},
   "source": [
    "On the remote server:"
   ]
  },
  {
   "cell_type": "markdown",
   "id": "69bc8aba-9f5c-46a5-bf66-e811a08b442c",
   "metadata": {},
   "source": [
    "`git init --bare /path/to/repo.git`"
   ]
  },
  {
   "cell_type": "markdown",
   "id": "706e2033-b535-40ab-83c0-e5083e0eb045",
   "metadata": {},
   "source": [
    "On the local machine:"
   ]
  },
  {
   "cell_type": "markdown",
   "id": "5d13f0f9-c5d3-44ea-af72-1da14ef9f3ac",
   "metadata": {},
   "source": [
    "`git remote add origin ssh://username@server:/path/to/repo.git`"
   ]
  },
  {
   "cell_type": "markdown",
   "id": "fd710cb0-8fa3-48ab-8f67-94806e7a4696",
   "metadata": {},
   "source": [
    ">(Note that ssh: is just one possible way of accessing the remote repository.)"
   ]
  },
  {
   "cell_type": "markdown",
   "id": "2f8b27e2-48b3-440d-82fa-9df833e9492a",
   "metadata": {},
   "source": [
    "Now copy your local repository to the remote:"
   ]
  },
  {
   "cell_type": "markdown",
   "id": "92ff06e3-8dd6-4c2f-80be-7c48be81c511",
   "metadata": {},
   "source": [
    "`git push --set-upstream origin master`"
   ]
  },
  {
   "cell_type": "markdown",
   "id": "36bfd2d6-11a9-476a-86fd-b0f1e80601d9",
   "metadata": {},
   "source": [
    "Adding `--set-upstream` (or -u) created an upstream (tracking) reference which is used by argument-less Git\n",
    "commands, e.g. `git pull`."
   ]
  },
  {
   "cell_type": "markdown",
   "id": "27431f7b-913a-4ad3-bf80-1a99b95c30de",
   "metadata": {},
   "source": [
    "---"
   ]
  },
  {
   "cell_type": "markdown",
   "id": "1169920e-5972-4891-9e72-a9d4d716c72f",
   "metadata": {},
   "source": [
    "**Section 1.4:** *Setting your user name and email*"
   ]
  },
  {
   "cell_type": "markdown",
   "id": "b624473c-46aa-4718-a868-1f6ff12fd104",
   "metadata": {},
   "source": [
    "You need to set who you are *before* creating any commit. That will allow commits to have the\n",
    "right author name and email associated to them."
   ]
  },
  {
   "cell_type": "markdown",
   "id": "d9b62cbf-78c9-4876-a8b7-f2edfce2bd62",
   "metadata": {},
   "source": [
    "**It has nothing to do with authentication when pushing to a remote repository** (e.g. when pushing to a remote\n",
    "repository using your GitHub, BitBucket, or GitLab account)\n"
   ]
  },
  {
   "cell_type": "markdown",
   "id": "58d95329-65ee-40f9-b7cb-ad5e00a34ef0",
   "metadata": {},
   "source": [
    "To declare that identity for all repositories, use `git config --global`"
   ]
  },
  {
   "cell_type": "markdown",
   "id": "b541c712-4ba1-4cd8-ab11-7ee90bfb432d",
   "metadata": {},
   "source": [
    "This will store the setting in your user's .gitconfig file: e.g. $HOME/.gitconfig or for Windows,\n",
    "%USERPROFILE%\\.gitconfig.\n"
   ]
  },
  {
   "cell_type": "markdown",
   "id": "b0d5fda8-e8ef-41c3-97c4-219c17c24699",
   "metadata": {},
   "source": [
    "`git config --global user.name \"Your Name\"`"
   ]
  },
  {
   "cell_type": "markdown",
   "id": "e80bb44a-ba03-4c85-aa69-2c9f619b0922",
   "metadata": {},
   "source": [
    "`git config --global user.email mail@example.com`"
   ]
  },
  {
   "cell_type": "markdown",
   "id": "d69ec0ea-49fb-445a-a120-1d461aeae7fd",
   "metadata": {},
   "source": [
    "To declare an identity for a single repository, use `git config` inside a repo.\n",
    "This will store the setting inside the individual repository, in the file $GIT_DIR/config. e.g.\n",
    "/path/to/your/repo/.git/config."
   ]
  },
  {
   "cell_type": "markdown",
   "id": "5af3c1c4-9967-4e60-b50b-33864766217c",
   "metadata": {},
   "source": [
    "cd /path/to/my/repo\n",
    "\n",
    "`git config user.name \"Your Login At Work\"`\n",
    "\n",
    "`git config user.email mail_at_work@example.com`"
   ]
  },
  {
   "cell_type": "markdown",
   "id": "7fc02b1a-02ed-4246-9750-c61958daded4",
   "metadata": {},
   "source": [
    "Settings stored in a repository's config file will take precedence over the global config when you use that repository."
   ]
  },
  {
   "cell_type": "markdown",
   "id": "6f89955e-c576-494f-b502-65b838342c85",
   "metadata": {},
   "source": [
    ">Tips: if you have different identities (one for open-source project, one at work, one for private repos, ...), and you\n",
    "don't want to forget to set the right one for each different repos you are working on:"
   ]
  },
  {
   "cell_type": "markdown",
   "id": "95cebafe-44b5-4da7-bde0-36447a7abd07",
   "metadata": {},
   "source": [
    "- Remove a global identity"
   ]
  },
  {
   "cell_type": "markdown",
   "id": "92d104bd-80b8-44dd-91d1-0dc7af44d14b",
   "metadata": {},
   "source": [
    "`git config --global --remove-section user.name`\n",
    "\n",
    "`git config --global --remove-section user.email`"
   ]
  },
  {
   "cell_type": "markdown",
   "id": "ce330e10-7501-4c6f-ba7a-fbccfd66d51e",
   "metadata": {},
   "source": [
    "- To force git to look for your identity only within a repository's settings, not in the global config:\n"
   ]
  },
  {
   "cell_type": "markdown",
   "id": "ae97bebe-bfc8-47c7-a23a-d10a81c5afb8",
   "metadata": {},
   "source": [
    "`git config --global user.useConfigOnly true`"
   ]
  },
  {
   "cell_type": "markdown",
   "id": "18892ae1-2904-4747-9657-06543245d251",
   "metadata": {},
   "source": [
    "That way, if you forget to set your user.name and user.email for a given repository and try to make a commit, you\n",
    "will see:"
   ]
  },
  {
   "cell_type": "markdown",
   "id": "e02038c9-9445-4ad9-a0ea-2d0f6d288a08",
   "metadata": {},
   "source": [
    "`no name was given and auto-detection is disabled`\n",
    "\n",
    "`no email was given and auto-detection is disabled`\n"
   ]
  },
  {
   "cell_type": "markdown",
   "id": "ab8cf15b-561b-4f2d-82b3-e3e6c16772bd",
   "metadata": {},
   "source": [
    "---"
   ]
  },
  {
   "cell_type": "markdown",
   "id": "0c667ef1-a011-4804-aac7-fffb68a50662",
   "metadata": {},
   "source": [
    "**Section 1.5:** *Setting up the upstream remote*"
   ]
  },
  {
   "cell_type": "markdown",
   "id": "c9da6f05-5f23-437e-a4b8-73a4a4b1e1e5",
   "metadata": {},
   "source": [
    "If you have cloned a fork (e.g. an open source project on Github) you may not have push access to the upstream\n",
    "repository, so you need both your fork but be able to fetch the upstream repository."
   ]
  },
  {
   "cell_type": "markdown",
   "id": "16932d94-794c-4ce9-af0d-44dd47e84831",
   "metadata": {},
   "source": [
    "First check the remote names:"
   ]
  },
  {
   "cell_type": "markdown",
   "id": "a0b64880-1599-4d63-90dd-ff508aa00bde",
   "metadata": {},
   "source": [
    "```bash\n",
    "$ git remote -v\n",
    "origin https://github.com/myusername/repo.git (fetch)\n",
    "origin https://github.com/myusername/repo.git (push)\n",
    "upstream # this line may or may not be here\n",
    "```"
   ]
  },
  {
   "cell_type": "markdown",
   "id": "29f27b13-5ee2-4862-8ee3-66011fc80028",
   "metadata": {},
   "source": [
    "If upstream is there already (it is on some Git versions) you need to set the URL (currently it's empty):"
   ]
  },
  {
   "cell_type": "markdown",
   "id": "7f821a73-85c6-4088-9f45-b7670b5e19d4",
   "metadata": {},
   "source": [
    "```bash\n",
    "$ git remote set-url upstream https://github.com/projectusername/repo.git\n",
    "```"
   ]
  },
  {
   "cell_type": "markdown",
   "id": "df0473f1-d43e-40c6-bc05-a336fd4ea3d1",
   "metadata": {},
   "source": [
    "If the upstream is **not** there, or if you also want to add a friend/colleague's fork (currently they do not exist):"
   ]
  },
  {
   "cell_type": "markdown",
   "id": "48e3ad8f-701f-4a0f-898d-f236176620ed",
   "metadata": {},
   "source": [
    "```bash\n",
    "$ git remote add upstream https://github.com/projectusername/repo.git\n",
    "$ git remote add dave https://github.com/dave/repo.git\n",
    "```"
   ]
  },
  {
   "cell_type": "markdown",
   "id": "aeb61d99-b4f6-4b55-85e8-619766f802b2",
   "metadata": {},
   "source": [
    "---"
   ]
  },
  {
   "cell_type": "markdown",
   "id": "a375cdc8-2e0a-4afd-a81a-2d19b85dab4f",
   "metadata": {},
   "source": [
    "**Section 1.6:** *Learning about a command*"
   ]
  },
  {
   "cell_type": "markdown",
   "id": "cafe9c8f-a60a-49db-aa51-cf8a21f99534",
   "metadata": {},
   "source": [
    "To get more information about any git command – i.e. details about what the command does, available options and\n",
    "other documentation – use the `--help` option or the help command.\n"
   ]
  },
  {
   "cell_type": "markdown",
   "id": "b36da69f-8519-4bfc-923d-497697b1cba1",
   "metadata": {},
   "source": [
    "For example, to get all available information about the `git diff` command, use:"
   ]
  },
  {
   "cell_type": "markdown",
   "id": "75e27add-5857-42b1-808f-51a16c171148",
   "metadata": {},
   "source": [
    "`git diff --help`\n",
    "\n",
    "`git help diff`"
   ]
  },
  {
   "cell_type": "markdown",
   "id": "78ce5603-9eda-4560-8d4b-e59cfd74d8bc",
   "metadata": {},
   "source": [
    "Similarly, to get all available information about the status command, use:"
   ]
  },
  {
   "cell_type": "markdown",
   "id": "887abcb4-4b0e-4bfc-bb8b-0c06eb6c13e9",
   "metadata": {},
   "source": [
    "`git status --help`\n",
    "\n",
    "`git help status`"
   ]
  },
  {
   "cell_type": "markdown",
   "id": "84d0eebd-214d-46ce-8cea-d35096c1f71e",
   "metadata": {},
   "source": [
    "If you only want a quick help showing you the meaning of the most used command line flags, use -h:"
   ]
  },
  {
   "cell_type": "markdown",
   "id": "d5732987-0f28-4b11-bb70-3fca1f43e04c",
   "metadata": {},
   "source": [
    "`git checkout -h`"
   ]
  },
  {
   "cell_type": "markdown",
   "id": "2af94dc9-e877-4274-b078-6dbb32723e21",
   "metadata": {},
   "source": [
    "---\n",
    "\n",
    "\n"
   ]
  },
  {
   "cell_type": "markdown",
   "id": "dd6ffdf8-88e9-4c17-af50-0e2ead713f6a",
   "metadata": {},
   "source": [
    "## Chapter 2: Browsing the history"
   ]
  },
  {
   "cell_type": "markdown",
   "id": "a5e10a5a-0be3-4c23-9b86-2fd278a7fa82",
   "metadata": {},
   "source": [
    "**Section 2.1:** *\"Regular\" Git Log*\n"
   ]
  },
  {
   "cell_type": "markdown",
   "id": "1b8e2fed-e63d-4d90-b369-163fc1e31220",
   "metadata": {},
   "source": [
    "`git log`"
   ]
  },
  {
   "cell_type": "markdown",
   "id": "7e68eae1-7595-47d0-bebc-19dc41924ab2",
   "metadata": {},
   "source": [
    "will display all your commits with the author and hash. This will be shown over multiple lines per commit. (If you\n",
    "wish to show a single line per commit, look at onelineing). Use the q key to exit the log."
   ]
  },
  {
   "cell_type": "markdown",
   "id": "22662cd5-c24b-4c24-8b38-71e59562f648",
   "metadata": {},
   "source": [
    ">By default, with no arguments, git log lists the commits made in that repository in reverse chronological\n",
    "order – that is, the most recent commits show up first. As you can see, this command lists each commit\n",
    "with its SHA-1 checksum, the author’s name and email, the date written, and the commit message. "
   ]
  },
  {
   "cell_type": "markdown",
   "id": "feb955af-8379-4376-b6f6-6934721f7af7",
   "metadata": {},
   "source": [
    "Example (from Free Code Camp repository)"
   ]
  },
  {
   "cell_type": "markdown",
   "id": "eb9e077d-5b88-4ef9-a01a-3aa9b4d49524",
   "metadata": {},
   "source": [
    "```bash\n",
    "commit 87ef97f59e2a2f4dc425982f76f14a57d0900bcf\n",
    "Merge: e50ff0d eb8b729\n",
    "Author: Brian\n",
    "Date: Thu Mar 24 15:52:07 2016 -0700\n",
    "Merge pull request #7724 from BKinahan/fix/where-art-thou\n",
    "Fix 'its' typo in Where Art Thou description\n",
    "commit eb8b7298d516ea20a4aadb9797c7b6fd5af27ea5\n",
    "Author: BKinahan\n",
    "Date: Thu Mar 24 21:11:36 2016 +0000\n",
    "Fix 'its' typo in Where Art Thou description\n",
    "commit e50ff0d249705f41f55cd435f317dcfd02590ee7\n",
    "Merge: 6b01875 2652d04\n",
    "Author: Mrugesh Mohapatra\n",
    "Date: Thu Mar 24 14:26:04 2016 +0530\n",
    "Merge pull request #7718 from deathsythe47/fix/unnecessary-comma\n",
    "Remove unnecessary comma from CONTRIBUTING.md\n",
    "```\n"
   ]
  },
  {
   "cell_type": "markdown",
   "id": "5224d7ea-9116-4c53-86d2-4f416d7e8ef5",
   "metadata": {},
   "source": [
    "If you wish to limit your command to last n commits log you can simply pass a parameter. For example, if you wish\n",
    "to list last 2 commits logs\n"
   ]
  },
  {
   "cell_type": "markdown",
   "id": "775b9d30-9d90-4381-9e5c-8f7795d79aaf",
   "metadata": {},
   "source": [
    "git log -2"
   ]
  },
  {
   "cell_type": "markdown",
   "id": "448f048d-8439-41f3-8812-89342688b106",
   "metadata": {},
   "source": [
    "---\n",
    "**Section 2.2:** *Prettier log*"
   ]
  },
  {
   "cell_type": "markdown",
   "id": "0b89d66b-18a6-4278-88f0-8ac95484ae91",
   "metadata": {},
   "source": [
    "To see the log in a prettier graph-like structure use:"
   ]
  },
  {
   "cell_type": "markdown",
   "id": "a2be179f-3397-45d1-be6a-12d8d96ff85e",
   "metadata": {},
   "source": [
    "**git log** --decorate --oneline --graph"
   ]
  },
  {
   "cell_type": "markdown",
   "id": "0e6ecd2b-a456-41d6-8540-4fc58ae09edd",
   "metadata": {},
   "source": [
    "sample output :"
   ]
  },
  {
   "cell_type": "markdown",
   "id": "201cb337-8ff7-4026-9f40-1bcb16fe17ef",
   "metadata": {},
   "source": [
    "```bash\n",
    "* e0c1cea (HEAD -> maint, tag: v2.9.3, origin/maint) Git 2.9.3\n",
    "* 9b601ea Merge branch 'jk/difftool-in-subdir' into maint\n",
    "|\\ \n",
    "| * 32b8c58 difftool: use Git::* functions instead of passing around state\n",
    "| * 98f917e difftool: avoid $GIT_DIR and $GIT_WORK_TREE\n",
    "| * 9ec26e7 difftool: fix argument handling in subdirs\n",
    "* | f4fd627 Merge branch 'jk/reset-ident-time-per-commit' into maint\n",
    "```"
   ]
  },
  {
   "cell_type": "markdown",
   "id": "01fc34f8-eddd-402e-bf83-6eb9add06f0f",
   "metadata": {},
   "source": [
    "**Since it's a pretty big command, you can assign an alias:**"
   ]
  },
  {
   "cell_type": "markdown",
   "id": "20ecc5da-80a9-47e6-be74-98b54be66999",
   "metadata": {},
   "source": [
    "**git config** --global alias.lol \"log --decorate --oneline --graph\""
   ]
  },
  {
   "cell_type": "markdown",
   "id": "27065e7a-e617-44eb-acb1-4ca6e8c4b882",
   "metadata": {},
   "source": [
    "To use the alias version:"
   ]
  },
  {
   "cell_type": "markdown",
   "id": "34c8e5f2-3dea-4829-9229-a0b70496ce89",
   "metadata": {},
   "source": [
    "```bash\n",
    "# history of current branch :\n",
    "git lol\n",
    "# combined history of active branch (HEAD), develop and origin/master branches :\n",
    "git lol HEAD develop origin/master\n",
    "# combined history of everything in your repo :\n",
    "git lol --all\n",
    "```"
   ]
  },
  {
   "cell_type": "markdown",
   "id": "bb4f6861-f63a-48bb-9c65-24a55a3b1f78",
   "metadata": {},
   "source": [
    "---\n",
    "**Section 2.3:** *Colorize Logs*"
   ]
  },
  {
   "cell_type": "markdown",
   "id": "a3951848-ec9d-4979-b79a-699821a183d9",
   "metadata": {},
   "source": [
    "**git log** --graph --pretty=format:'%C(red)%h%Creset -%C(yellow)%d%Creset %s %C(green)(%cr)\n",
    "%C(yellow)<%an>%Creset'"
   ]
  },
  {
   "cell_type": "markdown",
   "id": "212691a1-5efc-4e56-9115-d039035f2bf6",
   "metadata": {},
   "source": [
    "The format option allows you to specify your own log output format:"
   ]
  },
  {
   "cell_type": "markdown",
   "id": "26377b6b-bb01-43cb-a519-881ad62e65ad",
   "metadata": {},
   "source": [
    "| Parameter |  Details |\n",
    "| :- | :- |\n",
    "| %C(color_name) | option colors the output that comes after it |\n",
    "| %h or %H | abbreviates commit hash (use %H for complete hash) |\n",
    "| %Creset | resets color to default terminal color| \n",
    "| %d | ref names |\n",
    "| %s | subject [commit message] | \n",
    "| %cr | committer date, relative to current date |\n",
    "| %an | author name |\n"
   ]
  },
  {
   "cell_type": "markdown",
   "id": "9b4150b8-d362-48ac-a62d-b44d82e3d8de",
   "metadata": {},
   "source": [
    "---\n",
    "**Section 2.4:** *Oneline log*"
   ]
  },
  {
   "cell_type": "markdown",
   "id": "4ef4b613-5761-470d-aab2-3669c25e4fb7",
   "metadata": {},
   "source": [
    "**git log** --oneline"
   ]
  },
  {
   "cell_type": "markdown",
   "id": "ecf3bde7-e446-4022-8400-5d14d0505390",
   "metadata": {},
   "source": [
    "will show all of your commits with only the first part of the hash and the commit message. Each commit will be in a\n",
    "single line, as the oneline flag suggest"
   ]
  },
  {
   "cell_type": "markdown",
   "id": "1d511641-8191-4c6b-83e4-ac3db8eb6c92",
   "metadata": {},
   "source": [
    ">The oneline option prints each commit on a single line, which is useful if you’re looking at a lot of\n",
    "commits."
   ]
  },
  {
   "cell_type": "markdown",
   "id": "4f67cef9-d253-4343-baf9-0711ef3b3f3e",
   "metadata": {},
   "source": [
    "Example (from Free Code Camp repository, with the same section of code from the other example):"
   ]
  },
  {
   "cell_type": "markdown",
   "id": "54c685b6-4c07-47ec-82bd-ad9316110509",
   "metadata": {},
   "source": [
    "```bash\n",
    "87ef97f Merge pull request #7724 from BKinahan/fix/where-art-thou\n",
    "eb8b729 Fix 'its' typo in Where Art Thou description\n",
    "e50ff0d Merge pull request #7718 from deathsythe47/fix/unnecessary-comma\n",
    "2652d04 Remove unnecessary comma from CONTRIBUTING.md\n",
    "6b01875 Merge pull request #7667 from zerkms/patch-1\n",
    "766f088 Fixed assignment operator terminology\n",
    "d1e2468 Merge pull request #7690 from BKinahan/fix/unsubscribe-crash\n",
    "bed9de2 Merge pull request #7657 from Rafase282/fix/\n",
    "```"
   ]
  },
  {
   "cell_type": "markdown",
   "id": "474d8a1a-5e17-4c34-b396-4b060a88485c",
   "metadata": {},
   "source": [
    "If you wish to limit you command to last n commits log you can simply pass a parameter. For example, if you wish\n",
    "to list last 2 commits logs\n",
    "\n",
    "**git log -2** --oneline\n"
   ]
  },
  {
   "cell_type": "markdown",
   "id": "1965a374-9342-4be1-a167-043cb6a40cca",
   "metadata": {},
   "source": [
    "---\n",
    "**Section 2.5:** *Log search*"
   ]
  },
  {
   "cell_type": "markdown",
   "id": "8ec3d2f4-4115-4313-a50f-6f08c5191017",
   "metadata": {},
   "source": [
    "`git log -S\"#define SAMPLES\"`\n"
   ]
  },
  {
   "cell_type": "markdown",
   "id": "a0d50d61-32c0-4025-a8c7-1fb7ebac4bd0",
   "metadata": {},
   "source": [
    "Searches for **addition** or **removal** of specific string or the string **matching** provided REGEXP. In this case we're\n",
    "looking for addition/removal of the string #define SAMPLES. For example:\n"
   ]
  },
  {
   "cell_type": "markdown",
   "id": "88826ee5-1dd4-44f7-866d-b88d6915f6ef",
   "metadata": {},
   "source": [
    "`+#define SAMPLES 100000`\n",
    "\n",
    "or\n",
    "    \n",
    "`-#define SAMPLES 100000`"
   ]
  },
  {
   "cell_type": "markdown",
   "id": "a3c72b3c-6345-40db-8795-f9d88e3b048a",
   "metadata": {},
   "source": [
    "`git log -G\"#define SAMPLES\"`"
   ]
  },
  {
   "cell_type": "markdown",
   "id": "eafc1d44-b75f-4b07-bb2b-9871f29fbd15",
   "metadata": {},
   "source": [
    "Searches for changes in lines containing specific string or the string matching provided REGEXP. For example:\n"
   ]
  },
  {
   "cell_type": "markdown",
   "id": "7fd95022-3591-4ab7-b305-235d646e140b",
   "metadata": {},
   "source": [
    "`-#define SAMPLES 100000`\n",
    "\n",
    "`+#define SAMPLES 100000000`\n"
   ]
  },
  {
   "cell_type": "markdown",
   "id": "d89161fa-24a6-4a2b-9dc8-b9e3a126c01b",
   "metadata": {},
   "source": [
    "---"
   ]
  },
  {
   "cell_type": "markdown",
   "id": "6c29314b-0104-4799-aed0-ee83b434b9f2",
   "metadata": {},
   "source": [
    "### Chapter 3: Working with Remotes"
   ]
  },
  {
   "cell_type": "markdown",
   "id": "c621f1d6-e2fa-47e2-a2d7-2d10a5e43ac9",
   "metadata": {},
   "source": [
    "**Section 3.1:** *Deleting a Remote Branch*"
   ]
  },
  {
   "cell_type": "markdown",
   "id": "35156c73-023c-483b-bece-8951d026901f",
   "metadata": {},
   "source": [
    "To delete a remote branch in Git:"
   ]
  },
  {
   "cell_type": "markdown",
   "id": "4bbadb16-1404-46b1-850f-7fb76e7b308c",
   "metadata": {},
   "source": [
    "`git push [remote-name] --delete [branch-name]` \n",
    "\n",
    "or\n",
    "\n",
    "`git push [remote-name] :[branch-name]`\n"
   ]
  },
  {
   "cell_type": "markdown",
   "id": "c667bd4e-9fbe-4a2f-a0d7-be84a16d57ce",
   "metadata": {},
   "source": [
    "---"
   ]
  },
  {
   "cell_type": "markdown",
   "id": "00627805-f7b0-4ede-9c7c-42102c59ad7f",
   "metadata": {},
   "source": [
    "**Section 3.2:** *Changing Git Remote URL*"
   ]
  },
  {
   "cell_type": "markdown",
   "id": "9c84a580-f9f0-4ddc-8d88-cdfbd443a002",
   "metadata": {},
   "source": [
    "Check existing remote"
   ]
  },
  {
   "cell_type": "markdown",
   "id": "e909d4cb-ccf2-4829-b79b-41ac0553180f",
   "metadata": {},
   "source": [
    "```bash\n",
    "git remote -v\n",
    "# origin https://github.com/username/repo.git (fetch)\n",
    "# origin https://github.com/usernam/repo.git (push)\n",
    "```\n",
    "Changing repository URL\n",
    "```bash\n",
    "git remote set-url origin https://github.com/username/repo2.git\n",
    "# Change the 'origin' remote's URL\n",
    "```\n",
    "Verify new remote URL\n",
    "```bash\n",
    "git remote -v\n",
    "# origin https://github.com/username/repo2.git (fetch)\n",
    "# origin https://github.com/username/repo2.git (push)\n",
    "```"
   ]
  },
  {
   "cell_type": "markdown",
   "id": "222e056b-ca1f-4a63-a92a-8d711255404d",
   "metadata": {},
   "source": [
    "---"
   ]
  },
  {
   "cell_type": "markdown",
   "id": "7af342fe-040d-40bd-b5b0-0608f6711ea1",
   "metadata": {},
   "source": [
    "**Section 3.3:** *List Existing Remotes*"
   ]
  },
  {
   "cell_type": "markdown",
   "id": "f76e146c-9127-42c0-bb82-aa9aa409c57e",
   "metadata": {},
   "source": [
    "List all the existing remotes associated with this repository:"
   ]
  },
  {
   "cell_type": "markdown",
   "id": "883df7e2-849d-4974-90de-8d32a6b6f0a3",
   "metadata": {},
   "source": [
    "`git remote` \n",
    "\n",
    "List all the existing remotes associated with this repository in detail including the fetch and push URLs:\n",
    "\n",
    "`git remote --verbose`\n",
    "\n",
    "or simply\n",
    "\n",
    "`git remote -v`"
   ]
  },
  {
   "cell_type": "markdown",
   "id": "5cfee8af-c2bb-4139-b90e-6a3186cb69c9",
   "metadata": {},
   "source": [
    "---"
   ]
  },
  {
   "cell_type": "markdown",
   "id": "bf055a06-5e27-4863-a1da-e99bae85090b",
   "metadata": {},
   "source": [
    "**Section 3.4:** *Removing Local Copies of Deleted Remote\n",
    "Branches*"
   ]
  },
  {
   "cell_type": "markdown",
   "id": "957cff27-7963-405c-806d-f2b87fd97f8a",
   "metadata": {},
   "source": [
    "If a remote branch has been deleted, your local repository has to be told to prune the reference to it.\n",
    "To prune deleted branches from a specific remote:"
   ]
  },
  {
   "cell_type": "markdown",
   "id": "dace01cf-bca0-4f62-8cee-37744712d6b0",
   "metadata": {},
   "source": [
    "`git fetch [remote-name] --prune`\n",
    "\n",
    "To prune deleted branches from all remotes:\n",
    "\n",
    "`git fetch --all --prune`"
   ]
  },
  {
   "cell_type": "markdown",
   "id": "c677eb51-6873-491d-bba1-518451ccc053",
   "metadata": {},
   "source": [
    "\n",
    "**Section 3.5:** *Updating from Upstream Repository*"
   ]
  },
  {
   "cell_type": "markdown",
   "id": "0ab67965-fe8d-4003-968e-067e2ddfb7b8",
   "metadata": {},
   "source": [
    "Assuming you set the upstream (as in the \"setting an upstream repository\")\n",
    "\n",
    "`git fetch remote-name`\n",
    "\n",
    "`git merge remote-name/branch-name`\n",
    "\n",
    "The pull command combines a fetch and a merge.\n",
    "    \n",
    "`git pull`\n",
    "    \n",
    "The pull with --rebase flag command combines a fetch and a rebase instead of merge.\n",
    "    \n",
    "`git pull --rebase remote-name branch-name`"
   ]
  },
  {
   "cell_type": "markdown",
   "id": "c626e146-8ce0-4e63-9829-b9edf3843c4e",
   "metadata": {},
   "source": [
    "\n",
    "**Section 3.6:** *ls-remote*"
   ]
  },
  {
   "cell_type": "markdown",
   "id": "49e93a9e-b0ff-4d3e-b6b7-97922ca8dcf5",
   "metadata": {},
   "source": [
    "`git ls-remote`"
   ]
  },
  {
   "cell_type": "markdown",
   "id": "24eafcae-1dc4-4891-9bdb-2ed8d5a33c05",
   "metadata": {},
   "source": [
    "git ls-remote is one unique command allowing you to query a remote repo without having to clone/fetch it first"
   ]
  },
  {
   "cell_type": "markdown",
   "id": "5e165a09-a7c7-47db-ac94-a7a8310148b8",
   "metadata": {},
   "source": [
    "It will list refs/heads and refs/tags of said remote repo.\n",
    "\n",
    "You will see sometimes refs/tags/v0.1.6 and refs/tags/v0.1.6^{}: the ^{} to list the dereferenced annotated\n",
    "tag (ie the commit that tag is pointing to)\n",
    "\n",
    "Since git 2.8 (March 2016), you can avoid that double entry for a tag, and list directly those dereferenced tags with:"
   ]
  },
  {
   "cell_type": "markdown",
   "id": "7d059f17-9dc3-43d5-b3a7-8dc368b9843c",
   "metadata": {
    "scrolled": true
   },
   "source": [
    "`git ls-remote --ref`"
   ]
  },
  {
   "cell_type": "markdown",
   "id": "f516b23b-bbd3-4fdf-aec7-feb5547de30c",
   "metadata": {},
   "source": [
    "It can also help resolve the actual url used by a remote repo when you have \"url.<base>.insteadOf\" config setting.\n",
    "\n",
    "If git remote --get-url <aremotename> returns https://server.com/user/repo, and you have set git config\n",
    "url.ssh://git@server.com:.insteadOf https://server.com/:\n",
    "git ls-remote --get-url <aremotename>\n",
    "\n",
    "ssh://git@server.com:user/repo"
   ]
  },
  {
   "cell_type": "markdown",
   "id": "bbab381e-4422-4733-9c1a-6ab7163b91ac",
   "metadata": {},
   "source": [
    "**Section 3.7:** *Adding a New Remote Repository*\n"
   ]
  },
  {
   "cell_type": "markdown",
   "id": "442f5691-8b40-4a19-ba8a-1e702f144394",
   "metadata": {},
   "source": [
    "`git remote add upstream git-repository-url` \n",
    "\n",
    "Adds remote git repository represented by git-repository-url as new remote named upstream to the git\n",
    "repository"
   ]
  },
  {
   "cell_type": "markdown",
   "id": "c25a3a93-3d4e-4d46-994d-98bfc9e1adc4",
   "metadata": {},
   "source": [
    "---"
   ]
  },
  {
   "cell_type": "markdown",
   "id": "049edceb-f430-4621-bbee-dea0de0c37d9",
   "metadata": {},
   "source": [
    "**Section 3.8:** *Set Upstream on a New Branch*\n"
   ]
  },
  {
   "cell_type": "markdown",
   "id": "e242ddf5-4c60-4616-afdf-00c0fe05b4a6",
   "metadata": {},
   "source": [
    "You can create a new branch and switch to it using"
   ]
  },
  {
   "cell_type": "markdown",
   "id": "87b193b3-5ff5-4107-a594-28f9a1438024",
   "metadata": {},
   "source": [
    "`git checkout -b AP-57`"
   ]
  },
  {
   "cell_type": "markdown",
   "id": "d1e738eb-4b9d-4cd1-b3d4-6156b83b0b73",
   "metadata": {},
   "source": [
    "After you use git checkout to create a new branch, you will need to set that upstream origin to push to using"
   ]
  },
  {
   "cell_type": "markdown",
   "id": "5531d9e6-7c34-42ed-b0e2-cc70c0a8cd3f",
   "metadata": {},
   "source": [
    "`git push --set-upstream origin AP-57`"
   ]
  },
  {
   "cell_type": "markdown",
   "id": "ebdd7dde-834b-4dbd-b151-89a033aa13c4",
   "metadata": {},
   "source": [
    "After that, you can use git push while you are on that branch."
   ]
  },
  {
   "cell_type": "markdown",
   "id": "e7601082-6967-467f-8925-8ab19073b2ae",
   "metadata": {},
   "source": [
    "**Section 3.9:** *Getting Started*\n"
   ]
  },
  {
   "cell_type": "markdown",
   "id": "f556575a-1eaa-4b25-90ee-b91df87b26f9",
   "metadata": {},
   "source": [
    "Syntax for pushing to a remote branch\n",
    "\n",
    "`git push <remote_name> <branch_name>`\n",
    "\n",
    "Example\n",
    "\n",
    "`git push origin master`"
   ]
  },
  {
   "cell_type": "markdown",
   "id": "d1151345-7360-49d2-a91d-e9bb0bc25e8e",
   "metadata": {},
   "source": [
    "**Section 3.10:** *Renaming a Remote*"
   ]
  },
  {
   "cell_type": "markdown",
   "id": "16bf791b-2e95-403e-9d0d-3994504fde2d",
   "metadata": {},
   "source": [
    "To rename remote, use command git remote rename"
   ]
  },
  {
   "cell_type": "markdown",
   "id": "88e53305-f251-4a47-b05b-0ef9133101c3",
   "metadata": {},
   "source": [
    "The **git remote** rename command takes two arguments:\n"
   ]
  },
  {
   "cell_type": "markdown",
   "id": "93ea54e6-3cc6-4ae9-852b-c0b412ffe192",
   "metadata": {},
   "source": [
    "- An existing remote name, for example : **origin**\n",
    "\n",
    "- A new name for the remote, for example : **destination**"
   ]
  },
  {
   "cell_type": "markdown",
   "id": "5fe6644b-46ef-43d3-ad92-291182b40d0d",
   "metadata": {},
   "source": [
    "Get existing remote name\n",
    "\n",
    "```bash\n",
    "git remote\n",
    "# origin\n",
    "```\n",
    "\n",
    "Check existing remote with URL\n",
    "```bash\n",
    "git remote -v\n",
    "# origin https://github.com/username/repo.git (fetch)\n",
    "# origin https://github.com/usernam/repo.git (push)\n",
    "```\n",
    "Rename remote\n",
    "```bash\n",
    "git remote rename origin destination\n",
    "# Change remote name from 'origin' to 'destination'\n",
    "```\n",
    "Verify new name\n",
    "```bash\n",
    "git remote -v\n",
    "# destination https://github.com/username/repo.git (fetch)\n",
    "# destination https://github.com/usernam/repo.git (push)\n",
    "```"
   ]
  },
  {
   "cell_type": "markdown",
   "id": "fa17da21-400b-44db-97c9-409cb43fb91a",
   "metadata": {},
   "source": [
    "**=== Posible Errors ===**\n",
    "1. Could not rename config section 'remote.[old name]' to 'remote.[new name]'\n",
    "This error means that the remote you tried the old remote name (origin) doesn't exist\n",
    "3. Remote [new name] already exists.\n",
    "Error message is self explanatory."
   ]
  },
  {
   "cell_type": "markdown",
   "id": "5cc3f80b-5b79-4824-b967-ee339d9e9fef",
   "metadata": {},
   "source": [
    "---"
   ]
  },
  {
   "cell_type": "markdown",
   "id": "16b42b33-2b48-4272-96e7-6e2cfaae4b2f",
   "metadata": {},
   "source": [
    "#### Chapter 4: Staging"
   ]
  },
  {
   "cell_type": "markdown",
   "id": "1a0059f4-e51e-49e9-9c4c-0b57a7d52c81",
   "metadata": {},
   "source": [
    "**Section 4.1:** *Staging All Changes to Files*"
   ]
  },
  {
   "cell_type": "markdown",
   "id": "36b82b6b-5a00-4343-8e35-961ddcee41e4",
   "metadata": {},
   "source": [
    "`git add -A`\n",
    "\n",
    "Version ≥ 2.0\n",
    "\n",
    "`git add .`"
   ]
  },
  {
   "cell_type": "markdown",
   "id": "97b01019-0906-46b9-af57-e2609329c4d8",
   "metadata": {},
   "source": [
    "In version 2.x, **git add** . will stage all changes to files in the current directory and all its subdirectories. However, in\n",
    "1.x it will only stage new and modified files, not deleted files"
   ]
  },
  {
   "cell_type": "markdown",
   "id": "ab1eae24-2199-4538-90e4-fe745b871abf",
   "metadata": {},
   "source": [
    "Use **git add -A**, or its equivalent command **git add --all**, to stage all changes to files in any version of git."
   ]
  },
  {
   "cell_type": "markdown",
   "id": "490081c7-6752-49ea-9bda-53c741a1880b",
   "metadata": {},
   "source": [
    "**Section 4.2:** *Unstage a file that contains changes*"
   ]
  },
  {
   "cell_type": "markdown",
   "id": "1c266a8c-5b4b-4a83-85a1-47439912e881",
   "metadata": {},
   "source": [
    "`git reset <filePath>`\n"
   ]
  },
  {
   "cell_type": "markdown",
   "id": "20803a0b-4ed5-492f-836d-1d2ba642653f",
   "metadata": {},
   "source": [
    "**Section 4.3:** *Add changes by hunk*\n",
    "    \n",
    "You can see what \"hunks\" of work would be staged for commit using the patch flag:\n",
    "    \n",
    "`git add -p`\n",
    "    \n",
    "or\n",
    "    \n",
    "`git add --patch`\n",
    "    \n",
    "This opens an interactive prompt that allows you to look at the diffs and let you decide whether you want to include\n",
    "them or not."
   ]
  },
  {
   "cell_type": "markdown",
   "id": "2b348223-bd44-4049-a9c3-760ef22b7217",
   "metadata": {},
   "source": [
    "**Section 4.4:** *Interactive add*"
   ]
  },
  {
   "cell_type": "markdown",
   "id": "2c05ca44-4674-402a-b6a4-a74cc12624ca",
   "metadata": {},
   "source": [
    "**git add -i** (or --interactive) will give you an interactive interface where you can edit the index, to prepare what\n",
    "you want to have in the next commit. You can add and remove changes to whole files, add untracked files and\n",
    "remove files from being tracked, but also select subsection of changes to put in the index, by selecting chunks of\n",
    "changes to be added, splitting those chunks, or even editing the diff. Many graphical commit tools for Git (like e.g.\n",
    "**git gui**) include such feature; this might be easier to use than the command line version."
   ]
  },
  {
   "cell_type": "markdown",
   "id": "fa6d1b9d-e05e-4d28-878b-50af37242dd2",
   "metadata": {},
   "source": [
    "It is very useful (1) if you have entangled changes in the working directory that you want to put in separate commits,\n",
    "and not all in one single commit (2) if you are in the middle of an interactive rebase and want to split too large\n",
    "commit."
   ]
  },
  {
   "cell_type": "markdown",
   "id": "73bf6e29-404b-4955-80eb-0f6f4a7fe653",
   "metadata": {},
   "source": [
    "```bash\n",
    "$ git add -i\n",
    " staged unstaged path\n",
    " 1: unchanged +4/-4 index.js\n",
    " 2: +1/-0 nothing package.json\n",
    "*** Commands ***\n",
    " 1: status 2: update 3: revert 4: add untracked\n",
    " 5: patch 6: diff 7: quit 8: help\n",
    "What now>\n",
    "```"
   ]
  },
  {
   "cell_type": "markdown",
   "id": "d0dfc890-92ba-4294-bc0b-83b38675b80a",
   "metadata": {},
   "source": [
    "The top half of this output shows the current state of the index broken up into staged and unstaged columns:"
   ]
  },
  {
   "cell_type": "markdown",
   "id": "32711fca-b3c3-468c-8328-f5d1e9a6db50",
   "metadata": {},
   "source": [
    "1. index.js has had 4 lines added and 4 lines removed. It is currently not staged, as the current status reports\n",
    "\"unchanged.\" When this file becomes staged, the +4/-4 bit will be transferred to the staged column and the\n",
    "unstaged column will read \"nothing.\"\n",
    "2. package.json has had one line added and has been staged. There are no further changes since it has been\n",
    "staged as indicated by the \"nothing\" line under the unstaged column."
   ]
  },
  {
   "cell_type": "markdown",
   "id": "a9a880fa-52c5-4cd6-9a66-280499ea103e",
   "metadata": {},
   "source": [
    "The bottom half shows what you can do. Either enter a number (1-8) or a letter (s, u, r, a, p, d, q, h).\n",
    "\n",
    "status shows output identical to the top part of the output above.\n",
    "\n",
    "update allows you to make further changes to the staged commits with additional syntax.\n",
    "    \n",
    "revert will revert the staged commit information back to HEAD.\n",
    "\n",
    "add untracked allows you to add filepaths previously untracked by version control.\n",
    "    \n",
    "**patch** allows for one path to be selected out of an output similar to status for further analysis.\n",
    "    \n",
    "**diff** displays what will be committed.\n",
    "    \n",
    "quit exits the command.\n",
    "    \n",
    "help presents further help on using this command.\n",
    "    "
   ]
  },
  {
   "cell_type": "markdown",
   "id": "52b66326-c075-4c74-a1e8-f61093cd3acd",
   "metadata": {},
   "source": [
    "**Section 4.5:** *Stage deleted files*"
   ]
  },
  {
   "cell_type": "markdown",
   "id": "1030dac6-74d4-4f9a-988d-e0696b18a213",
   "metadata": {},
   "source": [
    "`git rm filename`\n",
    "\n",
    "To delete the file from git without removing it from disk, use the --cached flag\n",
    "\n",
    "`git rm --cached filename`"
   ]
  },
  {
   "cell_type": "markdown",
   "id": "c21de715-c8c5-49d8-b06f-e2ba212927a7",
   "metadata": {},
   "source": [
    "---"
   ]
  },
  {
   "cell_type": "markdown",
   "id": "db233786-4136-417b-b112-7df49d0599cd",
   "metadata": {},
   "source": [
    "##### Chapter 5: Ignoring Files and Folders"
   ]
  },
  {
   "cell_type": "markdown",
   "id": "886ba430-3fa4-4671-937c-f6c03e2ff9cf",
   "metadata": {},
   "source": [
    "**Section 5.1:** *Ignoring files and directories with a .gitignore file*"
   ]
  },
  {
   "cell_type": "markdown",
   "id": "b46872e2-cad4-4295-b6d4-2ecf1c31028f",
   "metadata": {},
   "source": [
    "You can make Git ignore certain files and directories — that is, exclude them from being tracked by Git — by\n",
    "creating one or more .gitignore files in your repository.\n"
   ]
  },
  {
   "cell_type": "markdown",
   "id": "9bc8b7f3-eef0-4ec1-8fba-b6d1ab2d322c",
   "metadata": {},
   "source": [
    "In software projects, .gitignore typically contains a listing of files and/or directories that are generated during the\n",
    "build process or at runtime. Entries in the .gitignore file may include names or paths pointing to:\n"
   ]
  },
  {
   "cell_type": "markdown",
   "id": "26f822b3-901d-40a0-b5b1-b1f2ed21f5c7",
   "metadata": {},
   "source": [
    "1. temporary resources e.g. caches, log files, compiled code, etc.\n",
    "2. local configuration files that should not be shared with other developers\n",
    "3. files containing secret information, such as login passwords, keys and credentials\n"
   ]
  },
  {
   "cell_type": "markdown",
   "id": "3f51baf2-0723-4492-8d57-882b380c556f",
   "metadata": {},
   "source": [
    "When created in the top level directory, the rules will apply recursively to all files and sub-directories throughout\n",
    "the entire repository. When created in a sub-directory, the rules will apply to that specific directory and its sub\u0002directories."
   ]
  },
  {
   "cell_type": "markdown",
   "id": "75cfa42c-4913-46f6-83f0-c0ee99e1a5e4",
   "metadata": {},
   "source": [
    "When a file or directory is ignored, it will not be:"
   ]
  },
  {
   "cell_type": "markdown",
   "id": "2abe92c6-937e-4bff-b5ba-7b58cbf13dca",
   "metadata": {},
   "source": [
    "1. tracked by Git\n",
    "2. reported by commands such as git status or git diff\n",
    "3. staged with commands such as git add -A"
   ]
  },
  {
   "cell_type": "markdown",
   "id": "a3942d60-936b-4019-89e0-3b1e2341c1f4",
   "metadata": {},
   "source": [
    "In the unusual case that you need to ignore tracked files, special care should be taken. See: Ignore files that have\n",
    "already been committed to a Git repository."
   ]
  },
  {
   "cell_type": "markdown",
   "id": "e2c1e7ac-7c31-42df-88e3-0cbb9340e74b",
   "metadata": {},
   "source": [
    "**Cleaning up ignored files**\n"
   ]
  },
  {
   "cell_type": "markdown",
   "id": "094062a2-b0d3-4439-96d1-b2361d578200",
   "metadata": {},
   "source": [
    "You can use **git clean** -X to cleanup ignored files:\n"
   ]
  },
  {
   "cell_type": "markdown",
   "id": "942eeca0-c77f-42f9-a3a4-16af5575ce6e",
   "metadata": {},
   "source": [
    "```bash\n",
    "git clean -Xn #display a list of ignored files\n",
    "git clean -Xf #remove the previously displayed files\n",
    "```"
   ]
  },
  {
   "cell_type": "markdown",
   "id": "d295f082-faa0-4ec8-9094-6bd6bfc33b04",
   "metadata": {},
   "source": [
    "Note: -X (caps) cleans up only ignored files. Use -x (no caps) to also remove untracked files."
   ]
  },
  {
   "cell_type": "markdown",
   "id": "b1b17497-dbfa-459e-918e-5ff6195926fa",
   "metadata": {},
   "source": [
    "**Section 5.2:** *A global .gitignore file*"
   ]
  },
  {
   "cell_type": "markdown",
   "id": "f58067be-567f-4c23-8eaf-da356b37e5a1",
   "metadata": {},
   "source": [
    "To have Git ignore certain files across all repositories you can create a global .gitignore with the following command\n",
    "in your terminal or command prompt:\n"
   ]
  },
  {
   "cell_type": "markdown",
   "id": "5dbb1289-afe8-4fed-a169-e337dcf0e10a",
   "metadata": {},
   "source": [
    "```bash\n",
    "$ git config --global core.excludesfile <Path_To_Global_gitignore_file>\n",
    "```"
   ]
  },
  {
   "cell_type": "markdown",
   "id": "6e20c8a1-6470-424c-b3f7-974a48fcb1c5",
   "metadata": {},
   "source": [
    "Git will now use this in addition to each repository's own .gitignore file. Rules for this are:"
   ]
  },
  {
   "cell_type": "markdown",
   "id": "769afe27-7b3a-48c8-ab0e-b3bb1ffe9e30",
   "metadata": {},
   "source": [
    "- If the local .gitignore file explicitly includes a file while the global .gitignore ignores it, the local\n",
    ".gitignore takes priority (the file will be included)\n",
    "- If the repository is cloned on multiple machines, then the global .gigignore must be loaded on all machines\n",
    "or at least include it, as the ignored files will be pushed up to the repo while the PC with the global\n",
    ".gitignore wouldn't update it. This is why a repo specific .gitignore is a better idea than a global one if the\n",
    "project is worked on by a team\n"
   ]
  },
  {
   "cell_type": "markdown",
   "id": "98de7f48-58d2-464f-8f60-301ab6efc854",
   "metadata": {},
   "source": [
    "This file is a good place to keep platform, machine or user specific ignores, e.g. OSX .DS_Store, Windows Thumbs.db\n",
    "or Vim *.ext~ and *.ext.swp ignores if you don't want to keep those in the repository. So one team member\n",
    "working on OS X can add all .DS_STORE and _MACOSX (which is actually useless), while another team member on\n",
    "Windows can ignore all thumbs.bd\n"
   ]
  },
  {
   "cell_type": "markdown",
   "id": "46d79eb3-3153-4c82-85c2-aefcaae10391",
   "metadata": {},
   "source": [
    "**Section 5.3:** *Ignore files that have already been committed to*"
   ]
  },
  {
   "cell_type": "markdown",
   "id": "c5a5b4fb-9d9d-4949-a572-c3b4bb361354",
   "metadata": {},
   "source": [
    "**a Git repository**\n"
   ]
  },
  {
   "cell_type": "markdown",
   "id": "125e6114-5712-48a7-9583-c2e97358c574",
   "metadata": {},
   "source": [
    "If you have already added a file to your Git repository and now want to stop tracking it (so that it won't be present\n",
    "in future commits), you can remove it from the index:\n"
   ]
  },
  {
   "cell_type": "markdown",
   "id": "6a4ffa82-7db9-4e1e-a970-e31eb2139be2",
   "metadata": {},
   "source": [
    "`git rm --cached <file>`"
   ]
  },
  {
   "cell_type": "markdown",
   "id": "4cebf68b-617d-4f5b-9674-204785cb314c",
   "metadata": {},
   "source": [
    "This will remove the file from the repository and prevent further changes from being tracked by Git.\n",
    "The --cached option will make sure that the file is not physically deleted.\n",
    "    \n",
    "Note that previously added contents of the file will still be visible via the Git history.\n",
    "\n",
    "Keep in mind that if anyone else pulls from the repository after you removed the file from the index, their copy\n",
    "will be physically deleted."
   ]
  },
  {
   "cell_type": "markdown",
   "id": "52004abd-4f00-4777-b89f-173a6bd20c0c",
   "metadata": {},
   "source": [
    "You can make Git pretend that the working directory version of the file is up to date and read the index version\n",
    "instead (thus ignoring changes in it) with \"skip worktree\" bit:"
   ]
  },
  {
   "cell_type": "markdown",
   "id": "211dea0d-5914-4033-a429-54b532638a25",
   "metadata": {},
   "source": [
    "`git update-index --skip-worktree <file>`\n",
    "\n",
    "Writing is not affected by this bit, content safety is still first priority. You will never lose your precious ignored\n",
    "changes; on the other hand this bit conflicts with stashing: to remove this bit, use\n",
    "\n",
    "`git update-index --no-skip-worktree <file>`\n",
    "\n",
    "It is sometimes **wrongly** recommended to lie to Git and have it assume that file is unchanged without examining it.\n",
    "    \n",
    "It looks at first glance as ignoring any further changes to the file, without removing it from its index:\n",
    "\n",
    "`git update-index --assume-unchanged <file>`\n",
    "\n",
    "This will force git to ignore any change made in the file (keep in mind that if you pull any changes to this file, or you\n",
    "stash it, **your ignored changes will be lost**)\n",
    "\n",
    "If you want git to \"care\" about this file again, run the following command:\n",
    "\n",
    "`git update-index --no-assume-unchanged <file>`"
   ]
  },
  {
   "cell_type": "markdown",
   "id": "7a4f19ff-8423-4ded-9496-2f7e98794353",
   "metadata": {},
   "source": [
    "**Chapter 6:** *Merging*"
   ]
  },
  {
   "cell_type": "markdown",
   "id": "74824a44-798e-4594-904c-43c98682c5f1",
   "metadata": {},
   "source": [
    "|Parameter | Details|\n",
    "|:-|:-|\n",
    "|-m | Message to be included in the merge commit |\n",
    "|-v |Show verbose output|\n",
    "|--abort |Attempt to revert all files back to their state|\n",
    "|--ff-only |Aborts instantly when a merge-commit would be required|\n",
    "|--no-ff | Forces creation of a merge-commit, even if it wasn't mandatory|\n",
    "|--no-commit | Pretends the merge failed to allow inspection and tweaking of the result|\n",
    "|--stat |Show a diffstat after merge completion|\n",
    "|-n/--no-stat | Don't show the diffstat|\n",
    "|--squash | Allows for a single commit on the current branch with the merged changes|"
   ]
  },
  {
   "cell_type": "markdown",
   "id": "d255265e-a5cd-4a5b-b025-399735544d35",
   "metadata": {},
   "source": [
    "**Section 6.1:** *Automatic Merging*"
   ]
  },
  {
   "cell_type": "markdown",
   "id": "4f4d22cf-936f-4cf7-a434-8e3713b3e44e",
   "metadata": {},
   "source": [
    "When the commits on two branches don't conflict, Git can automatically merge them:\n"
   ]
  },
  {
   "cell_type": "markdown",
   "id": "854595d8-4869-42f5-ba06-a42895cb6a92",
   "metadata": {},
   "source": [
    "```bash\n",
    "~/Stack Overflow(branch:master) » git merge another_branch\n",
    "Auto-merging file_a\n",
    "Merge made by the 'recursive' strategy.\n",
    " file_a | 2 +-\n",
    "1 file changed, 1 insertion(+), 1 deletion(-)\n",
    "```"
   ]
  },
  {
   "cell_type": "markdown",
   "id": "4f7b0d40-34b0-42fa-b7e1-2c5dc1686261",
   "metadata": {},
   "source": [
    "**Section 6.2:** *Finding all branches with no merged changes*"
   ]
  },
  {
   "cell_type": "markdown",
   "id": "8204a0be-3c32-4fed-b730-e7d5123935cb",
   "metadata": {},
   "source": [
    "Sometimes you might have branches lying around that have already had their changes merged into master. This\n",
    "finds all branches that are not master that have no unique commits as compared to master. This is very useful for\n",
    "finding branches that were not deleted after the PR was merged into master."
   ]
  },
  {
   "cell_type": "markdown",
   "id": "969a789f-6b7f-4c10-84a1-bbf0bd8df4aa",
   "metadata": {},
   "source": [
    "```bash\n",
    "for branch in $(git branch -r) ; do\n",
    " [ \"${branch}\" != \"origin/master\" ] && [ $(git diff master...${branch} | wc -l) -eq 0 ] && echo -\n",
    "e `git show --pretty=format:\"%ci %cr\" $branch | head -n 1`\\\\t$branch\n",
    "done | sort -r\n",
    "```\n"
   ]
  },
  {
   "cell_type": "markdown",
   "id": "66896f1a-cd56-428e-b562-a151f354ce93",
   "metadata": {},
   "source": [
    "**Section 6.3:** *Merge with a commit*\n",
    "    \n",
    "Default behaviour is when the merge resolves as a fast-forward, only update the branch pointer, without creating a\n",
    "merge commit. Use --no-ff to resolve.\n",
    "    \n",
    "`git merge <branch_name> --no-ff -m \"<commit message>\"`\n"
   ]
  },
  {
   "cell_type": "markdown",
   "id": "2f9ec42b-b680-495c-b1c2-2288ba5b769a",
   "metadata": {},
   "source": [
    " **===Forking Workflow===**"
   ]
  },
  {
   "cell_type": "markdown",
   "id": "936b374f-cb08-4b05-b446-96341dcf43cb",
   "metadata": {},
   "source": [
    "This type of workflow is fundamentally different than the other ones mentioned on this topic. Instead of having one\n",
    "centralized repo that all developers have access to, each developer has his/her own repo that is forked from the\n",
    "main repo. The advantage of this is that developers can post to their own repos rather than a shared repo and a\n",
    "maintainer can integrate the changes from the forked repos into the original whenever appropriate."
   ]
  },
  {
   "cell_type": "markdown",
   "id": "521624b3-708c-41a4-aaee-0d136beb3747",
   "metadata": {},
   "source": [
    "A visual representation of this workflow is as follows:"
   ]
  },
  {
   "cell_type": "markdown",
   "id": "aa394bbf-a43a-4241-8063-335d666b9130",
   "metadata": {},
   "source": [
    "![f6r2](http://i.stack.imgur.com/FAI5q.png)"
   ]
  },
  {
   "cell_type": "code",
   "execution_count": null,
   "id": "79212afb-f97d-490d-8341-86377f4091ca",
   "metadata": {},
   "outputs": [],
   "source": []
  }
 ],
 "metadata": {
  "kernelspec": {
   "display_name": "Python 3 (ipykernel)",
   "language": "python",
   "name": "python3"
  },
  "language_info": {
   "codemirror_mode": {
    "name": "ipython",
    "version": 3
   },
   "file_extension": ".py",
   "mimetype": "text/x-python",
   "name": "python",
   "nbconvert_exporter": "python",
   "pygments_lexer": "ipython3",
   "version": "3.11.9"
  }
 },
 "nbformat": 4,
 "nbformat_minor": 5
}
