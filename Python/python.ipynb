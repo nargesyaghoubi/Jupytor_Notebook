{
 "cells": [
  {
   "cell_type": "markdown",
   "id": "a5585c5c-7ce7-442f-b487-97e657def962",
   "metadata": {},
   "source": [
    "![python](https://developers.redhat.com/sites/default/files/styles/share/public/Python-01%20%282%29.png?itok=bApqv4pD)"
   ]
  },
  {
   "cell_type": "markdown",
   "id": "7bb45cde-5574-4199-99e7-ecbb0bc46736",
   "metadata": {},
   "source": [
    "# Python Basics: Getting Started"
   ]
  },
  {
   "cell_type": "markdown",
   "id": "2f713c4c-b579-480a-8d46-c5aec625535d",
   "metadata": {},
   "source": [
    "Most Windows and Mac computers come with Python pre-installed. You can check \n",
    "that via a Command Line search. The particular appeal of Python is that you can \n",
    "write a program in any text editor, save it in .py format and then run via a Command \n",
    "Line. But as you learn to write more complex code or venture into data science, you \n",
    "might want to switch to an IDE or IDLE.\n"
   ]
  },
  {
   "cell_type": "markdown",
   "id": "8eff6fa6-88c4-4691-b218-e35edfa50365",
   "metadata": {},
   "source": [
    "**What is IDLE (Integrated Development and Learning)**"
   ]
  },
  {
   "cell_type": "markdown",
   "id": "93374def-6c8f-415a-8ec5-99dbce2e13b3",
   "metadata": {},
   "source": [
    "IDLE (Integrated Development and Learning Environment) comes with every \n",
    "Python installation.\n",
    "Its advantage over other text editors is that it highlights \n",
    "important keywords (e.g. string functions), making it easier for you to interpret code.\n",
    "\n",
    "Shell is the default mode of operation for Python IDLE. In essence, it’s a simple loop \n",
    "that performs that following four steps:\n",
    "\n",
    "- Reads the Python statement\n",
    "- Evaluates the results of it \n",
    "- Prints the result on the screen\n",
    "- And then loops back to read the next statement. \n",
    "\n",
    "Python shell is a great place to test various small code snippets"
   ]
  },
  {
   "cell_type": "markdown",
   "id": "6bb960cc-4379-4519-bafe-ab767fdb4f09",
   "metadata": {},
   "source": [
    "**1. Main Python Data Types**"
   ]
  },
  {
   "cell_type": "markdown",
   "id": "11517c39-de40-47c8-a2db-490b7824a0f8",
   "metadata": {},
   "source": [
    "|DataTypes | Examples|\n",
    "|:- | :- |\n",
    "|Integers | 0, 2, -1, 5|\n",
    "|Strings | “a”, “hello”, “1234”, “12 Hello.” |\n",
    "|Boolean | True, False |\n",
    "|Floating | Point Numbers 16.0, -11.0, 2021.5 |"
   ]
  },
  {
   "cell_type": "markdown",
   "id": "fbaebb9c-4c3d-482f-8bfe-9d94c489bc2d",
   "metadata": {},
   "source": [
    " **2. Python Arithmetic Operators**"
   ]
  },
  {
   "cell_type": "markdown",
   "id": "5959d642-7a9c-48ba-9728-f34b4b896b58",
   "metadata": {},
   "source": [
    "The Arithmetic Operators in the below table are in Lowest to Highest precedence."
   ]
  },
  {
   "cell_type": "markdown",
   "id": "bec66b54-572e-4b29-97bc-21c37a16efdc",
   "metadata": {},
   "source": [
    "|Operators | Operation | Explanation | Examples|\n",
    "| :- | :- | :- | :- |\n",
    "| + | Addition | Returns sum of 2 numbers | 1 + 3 = 4 |\n",
    "| - | Subtraction | Returns the difference of2 numbers | 1 - 3 = -2 |\n",
    "| * | Multiplication | Returns theproduct of 2numbers | 1 * 3 = 3 |\n",
    "| / | Division | Returns thevalue of adivided by bas a decimalvalue | 1 / 3 = 0.33 |\n",
    "| // | Floored Division | Returns the floor of adivided by b | 1 // 3 = 0 |\n",
    "|% | Remainder | Returns the remainder when a isdivided by b | 1 % 3 = 1 |\n",
    "\n",
    "\n",
    "\n"
   ]
  },
  {
   "cell_type": "markdown",
   "id": "26b315fc-4f9c-4cc3-8199-02751c42f184",
   "metadata": {},
   "source": [
    "Some examples are shown below:\n"
   ]
  },
  {
   "cell_type": "markdown",
   "id": "986923ec-71bc-4217-8a27-16046de1350f",
   "metadata": {},
   "source": [
    "```python\n",
    "#Example for Addition\n",
    ">>> 1 + 3\n",
    "4\n",
    "#Example for Subtraction\n",
    ">>> 1 - 3\n",
    "-2\n",
    "#Example for Multiplication\n",
    ">>> 6 * 6\n",
    "36\n",
    "#Example for Floored Division\n",
    ">>> 4 // 2\n",
    "2\n",
    "#Example for Division\n",
    ">>> 3 / 2\n",
    "1.5000\n",
    "#Example for Modulo\n",
    ">>> 3 % 2\n",
    "1\n",
    "```"
   ]
  },
  {
   "cell_type": "markdown",
   "id": "957c2e0f-0463-4774-9bea-dfd274c35e74",
   "metadata": {},
   "source": [
    "**3. Python Variables**\n"
   ]
  },
  {
   "cell_type": "markdown",
   "id": "5e8c0ad7-2ebc-4ac7-b28c-33657afcf742",
   "metadata": {},
   "source": [
    "Variables are names given to data items that may take on one or more values during\n",
    "a program’s runtime.\n",
    "Following are the variable naming conventions in python:"
   ]
  },
  {
   "cell_type": "markdown",
   "id": "57465284-511f-47f9-9fae-8c70c738ab53",
   "metadata": {},
   "source": [
    "- It cannot begin with a number.\n",
    "- It must be a single word.\n",
    "- It must consist of letters and _ symbols only.\n",
    "- Variables in Python which start with _ (underscore) are considered as “Unuseful”.\n"
   ]
  },
  {
   "cell_type": "markdown",
   "id": "a56d24a8-43ac-4871-9043-1fdf09752406",
   "metadata": {},
   "source": [
    "**Some examples are shown below:**"
   ]
  },
  {
   "cell_type": "markdown",
   "id": "907a0103-69ec-4097-a32c-4e936ef0078a",
   "metadata": {},
   "source": [
    "```python\n",
    ">>> variable_name = \"Hello\"\n",
    ">>> variable_name \n",
    "'Hello'\n",
    ">>> variableName = 123\n",
    ">>> variableName \n",
    "123\n",
    "```"
   ]
  },
  {
   "cell_type": "markdown",
   "id": "e331a8de-9195-4da5-a36c-bad041926667",
   "metadata": {},
   "source": [
    "**4. Python Comments**"
   ]
  },
  {
   "cell_type": "markdown",
   "id": "bcc45509-3da6-4643-89b7-c40b570acde9",
   "metadata": {},
   "source": [
    "Comments are lines of text/code in the program, which are ignored by the compiler\n",
    "during program execution.\n",
    "    \n",
    "There are multiple types of comments in python:"
   ]
  },
  {
   "cell_type": "markdown",
   "id": "3d09616f-8e17-48ed-ba05-08c4b8c5df56",
   "metadata": {},
   "source": [
    "- Inline Comment "
   ]
  },
  {
   "cell_type": "markdown",
   "id": "798b5cec-beb4-4255-acbe-089bb93a0d98",
   "metadata": {},
   "source": [
    "We can write an Inline Comment by typing # followed by the comment."
   ]
  },
  {
   "cell_type": "markdown",
   "id": "df29de72-be8c-4008-a01a-a6c5db78ccfa",
   "metadata": {},
   "source": [
    "```python\n",
    "# Inline Comment to calculate sum of 2 numbers\n",
    "def fun(a, b): \n",
    " return a + b \n",
    "```"
   ]
  },
  {
   "cell_type": "markdown",
   "id": "761ade04-8133-4063-90e4-215aeb15b8ba",
   "metadata": {},
   "source": [
    "- Multiline Comment "
   ]
  },
  {
   "cell_type": "markdown",
   "id": "26e11292-c8f4-4b82-9e1e-23539d82b170",
   "metadata": {},
   "source": [
    "We can write a Multiline Comment by typing # followed by the comment in each of\n",
    "the lines.\n"
   ]
  },
  {
   "cell_type": "markdown",
   "id": "b10ac105-32bb-4f7e-8f20-09d370e50518",
   "metadata": {},
   "source": [
    "```python\n",
    "# Multiline\n",
    "# Comment\n",
    "# Function to calculate\n",
    "# sum of 2 numbers\n",
    "def fun(a, b): \n",
    " return a + b\n",
    "```"
   ]
  },
  {
   "cell_type": "markdown",
   "id": "07f339be-3120-4690-b3d3-c43df0a9cde5",
   "metadata": {},
   "source": [
    "- Docstring Comment \n"
   ]
  },
  {
   "cell_type": "markdown",
   "id": "6310d5b5-8691-44b1-bf5d-f52187588222",
   "metadata": {},
   "source": [
    "Docstring comments are achieved by Typing the comment within triple quotes. ( '''\n",
    "comment ''' )\n"
   ]
  },
  {
   "cell_type": "markdown",
   "id": "1f97fac8-78e0-4446-a8af-2bfccd2b22a1",
   "metadata": {},
   "source": [
    "```python\n",
    "''' \n",
    "This is a function \n",
    "to find sum \n",
    "of 2 numbers. \n",
    "This is an example of \n",
    "docstring comment. \n",
    "'''\n",
    "def fun(a, b): \n",
    " return a + b\n",
    "```"
   ]
  },
  {
   "cell_type": "markdown",
   "id": "1b3de96c-f9c6-4a4b-9319-55560e6a2729",
   "metadata": {},
   "source": [
    "## 5. Standard Python Functions"
   ]
  },
  {
   "cell_type": "markdown",
   "id": "3a523408-f790-4430-881e-ed0ea9da6fbd",
   "metadata": {},
   "source": [
    "- print() function in Python\n"
   ]
  },
  {
   "cell_type": "markdown",
   "id": "e391bbce-8cbd-4aea-a1cc-b5ca86299060",
   "metadata": {},
   "source": [
    "The print() function prints some specified message to the screen or some standard\n",
    "output device. We can print strings, numbers, or any other object using this function.\n",
    "We can print multiple tokens, and also specify to print the data separated by different\n",
    "delimiters using the print() function."
   ]
  },
  {
   "cell_type": "markdown",
   "id": "7937e838-d6b5-4c73-bca1-637c9af99542",
   "metadata": {},
   "source": [
    "```python\n",
    ">>> print(\"Hello World\") \n",
    "Hello World \n",
    ">>> var = \"Interviewbit\"\n",
    ">>> print(\"My name is \", var) \n",
    "('My name is ', 'Interviewbit') \n",
    ">>> print(\"My name is \" + var) \n",
    "My name is Interviewbit \n",
    ">>> print(123) \n",
    "123\n",
    ">>> a = [1, 2, 3, 4] \n",
    ">>> print(a) \n",
    "[1, 2, 3, 4]\n",
    "```"
   ]
  },
  {
   "cell_type": "markdown",
   "id": "72811915-1f34-4d15-8910-bf2c8512d124",
   "metadata": {},
   "source": [
    "- input() function in Python"
   ]
  },
  {
   "cell_type": "markdown",
   "id": "688ab559-b787-4b31-9edc-3ad09baaddff",
   "metadata": {},
   "source": [
    "The input() function in Python is used to take any form of inputs from the\n",
    "user/standard input device, which can later be processed accordingly in the program.\n",
    "It is complementary to the print() function."
   ]
  },
  {
   "cell_type": "markdown",
   "id": "4bbba829-8314-44b0-a532-bb97f39e0133",
   "metadata": {},
   "source": [
    "- len() function in Python"
   ]
  },
  {
   "cell_type": "markdown",
   "id": "fd9a2784-8f1f-4779-9f76-ea02e596c464",
   "metadata": {},
   "source": [
    "```python\n",
    "# For List\n",
    "a = [1, 2, 3] \n",
    "print(len(a)) \n",
    "# For string\n",
    "a = \"hello\"\n",
    "print(len(a)) \n",
    "# For tuple\n",
    "a = ('1', '2', '3') \n",
    "print(len(a))\n",
    "```"
   ]
  },
  {
   "cell_type": "markdown",
   "id": "150ee36c-a760-4c52-b04e-6b8496809c72",
   "metadata": {},
   "source": [
    "- ord() function in Python"
   ]
  },
  {
   "cell_type": "markdown",
   "id": "dad82ae3-a917-438e-a163-2bfdc1c672d3",
   "metadata": {},
   "source": [
    "The ord() function in Python will return an integer that represents the Unicode\n",
    "Character passed into it. It takes a single character as a parameter"
   ]
  },
  {
   "cell_type": "markdown",
   "id": "dcd8cb46-582c-45ef-b075-142fff972483",
   "metadata": {},
   "source": [
    "**Example:**\n"
   ]
  },
  {
   "cell_type": "markdown",
   "id": "04477f2f-24ac-4f02-95e0-e969c5f645fb",
   "metadata": {},
   "source": [
    "```python\n",
    "# Print unicode of 'A'\n",
    "print(ord('A')) \n",
    "# Print unicode of '5'\n",
    "print(ord('5')) \n",
    "# Print unicode of '$'\n",
    "print(ord('$')) \n",
    "Output: \n",
    "65\n",
    "53\n",
    "36\n",
    "```"
   ]
  },
  {
   "cell_type": "markdown",
   "id": "73b8438d-e5cc-46e1-977a-44b9c2e9936d",
   "metadata": {},
   "source": [
    "**6. Program Flow Control in Python**"
   ]
  },
  {
   "cell_type": "markdown",
   "id": "dec1c83f-3887-4541-b7b4-dd604476c832",
   "metadata": {},
   "source": [
    "Relational Operators in Python\n"
   ]
  },
  {
   "cell_type": "markdown",
   "id": "1c03b507-5877-41f0-8ac9-605535ebb53c",
   "metadata": {},
   "source": [
    "The Table gives a list of relational operators available in Python along with their\n",
    "functions:\n"
   ]
  },
  {
   "cell_type": "markdown",
   "id": "919ba9bf-2280-45f3-ba4f-816987cfc22b",
   "metadata": {},
   "source": [
    "| Operator | What it does |\n",
    "| :- | :- |    \n",
    "| == | Is equal to |\n",
    "| >= | Is Greater than or Equal to |\n",
    "| <= | Is Less than or Equal to |\n",
    "| > | Is Greater than| \n",
    "| < | Is Less than| \n",
    "| !=|  Not Equal to| "
   ]
  },
  {
   "cell_type": "markdown",
   "id": "a77470be-e049-41a0-bd2f-6ceadbc0b5da",
   "metadata": {},
   "source": [
    "Some examples are given below:\n"
   ]
  },
  {
   "cell_type": "markdown",
   "id": "61e78f1f-582f-47a2-9b2a-9c1af0108826",
   "metadata": {},
   "source": [
    "```python\n",
    "# Equality Operator\n",
    ">>> 10 == 10\n",
    "True # 10 is equal to 10, so true\n",
    ">>> 10 == \"10\"\n",
    "False # The first string is of type int, 2nd of type string, so false.\n",
    "# Greater than\n",
    ">>> 10 > 20\n",
    "False # 10 is lesser than 20, so above expression is false.\n",
    "# Inequality\n",
    ">>> 10 != 20\n",
    "True # 10 is not equal to 20, so the expression is true\n",
    "# Greater than or equal to\n",
    ">>> (2 + 3) >= (4 + 1) \n",
    "True # (2 + 3) = 5 and (4 + 1) = 5, so the expression is true.\n",
    "```"
   ]
  },
  {
   "cell_type": "markdown",
   "id": "b49a33e1-1219-4659-9163-ab6b14d9e5c2",
   "metadata": {},
   "source": [
    ">Note: Never use relational operators to compare boolean operations. Use is or is\n",
    "not operators for it."
   ]
  },
  {
   "cell_type": "markdown",
   "id": "4463b845-9773-466f-9e7e-7045fef23cc9",
   "metadata": {},
   "source": [
    "```python\n",
    ">>> True is False\n",
    "False\n",
    ">>> True is not False\n",
    "True\n",
    "```"
   ]
  },
  {
   "cell_type": "markdown",
   "id": "1f5677d7-be1f-4176-a2ec-036b1c0daff9",
   "metadata": {},
   "source": [
    "**7. Boolean Operators in Python**"
   ]
  },
  {
   "cell_type": "markdown",
   "id": "21732495-0348-4f67-9846-199c12022c4e",
   "metadata": {},
   "source": [
    "The Table gives a list of boolean operators available in Python along with their\n",
    "functions:\n"
   ]
  },
  {
   "cell_type": "markdown",
   "id": "805b3821-4915-4551-9c9f-0d8e618e44aa",
   "metadata": {},
   "source": [
    "| Operator | What it does | \n",
    "| :- | :- | \n",
    "| and | Returns True if both operands are True, else False | \n",
    "| or | Returns True if both operands are True, else False | \n",
    "| not|  Returns value opposite to the Truth value of the expression | "
   ]
  },
  {
   "cell_type": "markdown",
   "id": "4b425e33-a1b3-43e8-a93e-0c1653ed22ff",
   "metadata": {},
   "source": [
    "**Examples:**"
   ]
  },
  {
   "cell_type": "markdown",
   "id": "3ece749f-9ba4-4454-95a5-10e28239df08",
   "metadata": {},
   "source": [
    "```python\n",
    "# and operator\n",
    "print(True and False) \n",
    "False\n",
    "# or operator\n",
    "print(True or False) \n",
    "True\n",
    "# not operator\n",
    "print(not False) \n",
    "True\n",
    "```"
   ]
  },
  {
   "cell_type": "markdown",
   "id": "40109ab7-9a1a-44a8-b28e-4dbdcbb9e2dd",
   "metadata": {},
   "source": [
    "**9. Conditional Statements in Python**\n"
   ]
  },
  {
   "cell_type": "markdown",
   "id": "247d93e0-04c8-4da2-8ef5-aa89c90163e1",
   "metadata": {},
   "source": [
    "**- If Statements:** If statement is a condition statement that will perform some\n",
    "operation, if the expression given in it evaluates to true:"
   ]
  },
  {
   "cell_type": "markdown",
   "id": "5f1f7b73-1ab1-4fde-8cbd-d85ff85c1165",
   "metadata": {},
   "source": [
    "```python\n",
    ">>> var = \"Good\"\n",
    ">>> if var == \"Good\": \n",
    "... print(\"Same\") \n",
    "... \n",
    "Same\n",
    "```"
   ]
  },
  {
   "cell_type": "markdown",
   "id": "242df95e-a835-4522-b365-22ffcf54c20e",
   "metadata": {},
   "source": [
    "**- Elif Statements:**  This statement is used in conjunction with the if statement to\n",
    "add some other condition which is evaluated if the condition in if statement\n",
    "fails.\n"
   ]
  },
  {
   "cell_type": "markdown",
   "id": "d01a1862-a806-4751-85c1-92d592aad8f5",
   "metadata": {},
   "source": [
    "```python\n",
    ">>> var = \"Good\"\n",
    ">>> if var == \"Good\": \n",
    "... print(\"Same\") \n",
    "... elif var != \"Good\": \n",
    "... print(\"Not Same\") \n",
    "... \n",
    "Same\n",
    "```"
   ]
  },
  {
   "cell_type": "markdown",
   "id": "1310b74e-18e4-474e-b87a-3c38e43ba59a",
   "metadata": {},
   "source": [
    "**- Else Statements:**  This statement is used to perform some operation, if all the if\n",
    "and elif statements evaluates to be false."
   ]
  },
  {
   "cell_type": "markdown",
   "id": "c74a4e77-3795-4d13-88d5-5badc1b7b789",
   "metadata": {},
   "source": [
    "```python\n",
    ">>> var = \"Good\"\n",
    ">>> if var != \"Good\": \n",
    "... print(\"Not Same\") \n",
    "... else: \n",
    "... print(\"Same\") \n",
    "... \n",
    "Same\n",
    "```"
   ]
  },
  {
   "cell_type": "markdown",
   "id": "cf9b3ea7-2b0f-401b-9311-180847e6f11c",
   "metadata": {},
   "source": [
    "**- 10. Loop Statements in Python**"
   ]
  },
  {
   "cell_type": "markdown",
   "id": "9281d686-935e-457e-bd91-93b4fa31e055",
   "metadata": {},
   "source": [
    "Loops in Python are statements that allow us to perform a certain operation multiple\n",
    "times unless some condition is met.\n"
   ]
  },
  {
   "cell_type": "markdown",
   "id": "c02ab45c-2488-4e63-8af1-97e5569ddf4e",
   "metadata": {},
   "source": [
    "**For Loops:** For loop is used to iterate iterables like string, tuple, list, etc and perform\n",
    "some operation as shown in the flowchart below:"
   ]
  },
  {
   "cell_type": "markdown",
   "id": "a93ec072-fd7f-4dab-91d3-35ed74867b81",
   "metadata": {},
   "source": [
    "**For with range:**\n",
    "\n",
    "This loop format will iterate overall numbers from 0 to Limit - 1.\n",
    "\n",
    "The below example prints numbers from 0 to 4."
   ]
  },
  {
   "cell_type": "markdown",
   "id": "9fcbda23-f982-4d41-95c6-7d3eeceaf063",
   "metadata": {},
   "source": [
    "```python\n",
    "for i in range(5): \n",
    "print(i) \n",
    "Output: \n",
    "0\n",
    "1\n",
    "2\n",
    "3\n",
    "4\n",
    "```"
   ]
  },
  {
   "cell_type": "markdown",
   "id": "afc1fc70-30ed-4a60-87a1-5e511d165e27",
   "metadata": {},
   "source": [
    "**For with range(start, stop, step):**\n",
    "    \n",
    "This will run the loop from start to stop - 1, with step size = step in each iteration.\n",
    "    \n",
    "In the below example, the start is 2, end point is 10 and the step size is 2. Hence it\n",
    "prints 2,4,6,8"
   ]
  },
  {
   "cell_type": "markdown",
   "id": "f83bb706-ebd1-4f4c-84f3-cbb014362540",
   "metadata": {},
   "source": [
    "```python\n",
    "for i in range(2, 10, 2): \n",
    "print(i) \n",
    "Output: \n",
    "2\n",
    "4\n",
    "6\n",
    "8\n",
    "```\n"
   ]
  },
  {
   "cell_type": "markdown",
   "id": "22d84b1b-76e5-43cb-88ea-ee6bf5dff689",
   "metadata": {},
   "source": [
    "**For with in:**\n",
    "This is used to iterate over all the elements in a python container like list,\n",
    "tuple, dictionary, etc."
   ]
  },
  {
   "cell_type": "markdown",
   "id": "79e23a07-2d40-4347-9381-bd7fdac7e4c3",
   "metadata": {},
   "source": [
    "```python\n",
    "a = [1, 3, 5, 7] \n",
    "for ele in a: \n",
    "print(ele) \n",
    "Output: \n",
    "1\n",
    "3\n",
    "5\n",
    "7\n",
    "```"
   ]
  },
  {
   "cell_type": "markdown",
   "id": "0ac5442c-3e5d-4756-9f87-a061bed1e30d",
   "metadata": {},
   "source": [
    "**While Loops:**\n",
    "This is used for executing set of statements within its block as long as the\n",
    "associated loop condition is evaluated to True."
   ]
  },
  {
   "cell_type": "markdown",
   "id": "7f4aaee4-8453-471b-8e5d-531021f92e84",
   "metadata": {},
   "source": [
    "```python\n",
    ">>> count = 5\n",
    ">>> while count > 0: \n",
    "... print(count) \n",
    "... count -= 1\n",
    "... \n",
    "5\n",
    "4\n",
    "3\n",
    "2\n",
    "1\n",
    "```"
   ]
  },
  {
   "cell_type": "markdown",
   "id": "2ac0fa53-113f-4a1b-80b8-deaeda37f9e9",
   "metadata": {},
   "source": [
    "### 11. Jump Statements in Python\n"
   ]
  },
  {
   "cell_type": "markdown",
   "id": "9205f9e5-e8bc-4f70-8d32-7736e554fb7f",
   "metadata": {},
   "source": [
    "**break:** break statements are used to break out of the current loop, and allow\n",
    "execution of the next statement a"
   ]
  },
  {
   "cell_type": "markdown",
   "id": "eab3a56c-c055-41be-aeaa-373298b79293",
   "metadata": {},
   "source": [
    "```python\n",
    ">>> for i in range(5): \n",
    "... print(i) \n",
    "... if i == 3: \n",
    "... break\n",
    "... \n",
    "0\n",
    "1\n",
    "2\n",
    "3\n",
    "```"
   ]
  },
  {
   "cell_type": "markdown",
   "id": "4e57bcff-2ae4-4140-b483-d01e4f50ec79",
   "metadata": {},
   "source": [
    "**continue:** continue statement allows us to send the control back to the starting\n",
    "of the loop, skipping all the lines of code below it in the loop. This is explained in\n",
    "the flowchart below:"
   ]
  },
  {
   "cell_type": "markdown",
   "id": "7286842e-8215-491f-9446-632e9f75e941",
   "metadata": {},
   "source": [
    "```python\n",
    ">>> for i in range(5): \n",
    "... if i == 3: \n",
    "... continue\n",
    "... print(i) \n",
    "... \n",
    "0\n",
    "1\n",
    "2\n",
    "4\n",
    "```"
   ]
  },
  {
   "cell_type": "markdown",
   "id": "9a3b3a00-e767-400b-92cc-2cbbfe6e8bad",
   "metadata": {},
   "source": [
    "**pass:** The pass statement is basically a null statement, which is generally used as\n",
    "a placeholder. It is used to prevent any code from executing in its scope."
   ]
  },
  {
   "cell_type": "markdown",
   "id": "d11a6979-8555-4842-aaa3-2eccd9173231",
   "metadata": {},
   "source": [
    "```python\n",
    "for i in range(5): \n",
    " if i % 2 == 0: \n",
    " pass\n",
    " else: \n",
    " print(i) \n",
    "Output: \n",
    "1\n",
    "3\n",
    "```"
   ]
  },
  {
   "cell_type": "markdown",
   "id": "73a51c0e-64de-4f93-98d1-eec0c0804953",
   "metadata": {},
   "source": [
    "**return:** return statement allows us to send the control of the program outside\n",
    "the function we are currently in. A function can have multiple return statements,\n",
    "but can encounter only one of them during the course of its execution."
   ]
  },
  {
   "cell_type": "markdown",
   "id": "fca50ce7-76c6-44ed-b0b9-b4a18c097e44",
   "metadata": {},
   "source": [
    "```python\n",
    "def func(x): \n",
    " if x == 'Hello': \n",
    " return True\n",
    " else: \n",
    " return False\n",
    "```"
   ]
  },
  {
   "cell_type": "markdown",
   "id": "9b1359ac-eaae-458e-a6df-23aecec53341",
   "metadata": {},
   "source": [
    "**12. Functions in Python**\n",
    "\n",
    "Functions are used to well-organized our code and enhance code readability and\n",
    "reusability. In Python, a function is defined using the def keyword.\n",
    "A function can\n",
    "return some value, or not depending upon its use case. If it has to return a value, the\n",
    "return statement (which has been discussed) is used."
   ]
  },
  {
   "cell_type": "markdown",
   "id": "03c2c7d8-2189-454f-bf81-d94a31db50e2",
   "metadata": {},
   "source": [
    "**Example of a function:**\n"
   ]
  },
  {
   "cell_type": "markdown",
   "id": "225d096d-c191-4768-b274-96245246d7a1",
   "metadata": {},
   "source": [
    "```python\n",
    "# Function to return sum of two numbers\n",
    "def getSum(a, b): \n",
    " return a + b \n",
    " \n",
    "# Function to print sum of 2 numbers \n",
    "def printSum(a, b): \n",
    " print(a + b) \n",
    " \n",
    "print(getSum(5, 6)) \n",
    "printSum(5, 6)\n",
    "```"
   ]
  },
  {
   "cell_type": "markdown",
   "id": "9de6d9f7-f9b1-44d9-968b-57ab173becb1",
   "metadata": {},
   "source": [
    "**13. Python Variable Scope Resolution**\n"
   ]
  },
  {
   "cell_type": "markdown",
   "id": "e02a76e3-e34f-4a68-a0a8-3781222c6ed4",
   "metadata": {},
   "source": [
    "Scope of a variable is the part of the code, where it can be accessed freely and used\n",
    "by the program"
   ]
  },
  {
   "cell_type": "markdown",
   "id": "8e28b7d1-99fe-40a9-96dd-3b0fc4768fac",
   "metadata": {},
   "source": [
    "The scopes in the above image are explained as follows:\n"
   ]
  },
  {
   "cell_type": "markdown",
   "id": "2efb3d29-c384-4b85-8586-25a9a255aaeb",
   "metadata": {},
   "source": [
    "**Built-in:** These are reserved names for Python built-in modules.\n",
    "\n",
    "**Global:** These variables are defined at the highest level.\n",
    "\n",
    "**Enclosed:** These variables are defined inside some enclosing functions.\n",
    "\n",
    "**Local:** These variables are defined inside the functions or class and are local to them."
   ]
  },
  {
   "cell_type": "markdown",
   "id": "2efdc459-60f5-433c-a00d-e936d45a5ecb",
   "metadata": {},
   "source": [
    "The rules used in Python to resolve scope for local and global variables are as follows:"
   ]
  },
  {
   "cell_type": "markdown",
   "id": "ebbca8b9-ebd2-4cf9-8134-4ca07b9e945c",
   "metadata": {},
   "source": [
    "- Code in the global scope cannot use any local variables.\n",
    "- Code in a function’s local scope cannot use variables in any other local scope.\n",
    "- However, a local scope can access global variables.\n",
    "- We can use the same name for different variables if they are in different scopes.\n"
   ]
  },
  {
   "cell_type": "markdown",
   "id": "a9776e3c-0cb5-4c47-a683-4575084a5cc9",
   "metadata": {},
   "source": [
    "**14. Global Statement**"
   ]
  },
  {
   "cell_type": "markdown",
   "id": "69778cf6-7aca-46f4-b75b-2a7694b30d75",
   "metadata": {},
   "source": [
    "To modify a global variable from inside a function, we use the global statement:"
   ]
  },
  {
   "cell_type": "markdown",
   "id": "4d38a963-d32d-45c5-99b8-5c9aee9f1823",
   "metadata": {},
   "source": [
    "```python\n",
    "def func(): \n",
    " global value \n",
    " value = \"Local\"\n",
    " \n",
    "value = \"Global\"\n",
    "func() \n",
    "print(value) \n",
    "Output: \n",
    "Local\n",
    "```"
   ]
  },
  {
   "cell_type": "markdown",
   "id": "570e6730-52d2-43b5-b11b-c0658b6b1573",
   "metadata": {},
   "source": [
    "We set the value of “value” as Global. To change its value from inside the function, we\n",
    "use the global keyword along with “value” to change its value to local, and then print\n",
    "it.\n"
   ]
  },
  {
   "cell_type": "markdown",
   "id": "85979bbf-a65b-469b-9b09-eea029be6d9a",
   "metadata": {},
   "source": [
    "**15. Lists in Python**"
   ]
  },
  {
   "cell_type": "markdown",
   "id": "54b59b0f-fab1-44c2-9c1a-3beb4322e1f7",
   "metadata": {},
   "source": [
    "Lists are used to store multiple items in a single variable. Their usage and some\n",
    "functions are shown below with examples:"
   ]
  },
  {
   "cell_type": "markdown",
   "id": "336bb11a-dbed-4259-abe0-b8ed45e12924",
   "metadata": {},
   "source": [
    "```python\n",
    "example = [\"Sunday\", \"Monday\", \"Tuesday\", \"Wednesday\"]; \n",
    "print(example) \n",
    "Output: \n",
    "['Sunday', 'Monday', 'Tuesday', 'Wednesday']\n",
    "```\n"
   ]
  },
  {
   "cell_type": "markdown",
   "id": "96130b7c-71d3-43c8-986c-15787e1ccc43",
   "metadata": {},
   "source": [
    "**Accessing elements in a List:**\n",
    "    \n",
    "Accessing elements in a list basically means getting the value of an element at\n",
    "some arbitrary index in the list.\n",
    "\n",
    "Indexes are assigned on 0 based basis in python. We can also access elements in\n",
    "python with negative indexes. Negative indexes represent elements, counted\n",
    "from the back (end) of the list.\n"
   ]
  },
  {
   "cell_type": "markdown",
   "id": "267bb372-3fc0-492d-b2f0-4b7c89367ab9",
   "metadata": {},
   "source": [
    "```python\n",
    "example = [\"Sunday\", \"Monday\", \"Tuesday\", \"Wednesday\"]; \n",
    "# Positive Indexing\n",
    "print(example[0], example[1]) \n",
    "# Negative Indexing\n",
    "print(example[-1]) \n",
    "Output: \n",
    "Sunday Monday \n",
    "Wednesday\n",
    "```"
   ]
  },
  {
   "cell_type": "markdown",
   "id": "869598d4-03e3-410d-906d-d52f7603861c",
   "metadata": {},
   "source": [
    "**Slicing a List:**\n"
   ]
  },
  {
   "cell_type": "markdown",
   "id": "cfcc1f7d-6514-477d-bf5f-5eda4a6f0662",
   "metadata": {},
   "source": [
    "Slicing is the process of accessing a part or subset of a given list."
   ]
  },
  {
   "cell_type": "markdown",
   "id": "d3559424-59a4-48c8-aceb-9c2f919586d5",
   "metadata": {},
   "source": [
    "```python\n",
    "example = [\"Sunday\", \"Monday\", \"Tuesday\", \"Wednesday\"]; \n",
    "# Positive Slicing\n",
    "print(example[0:2]) \n",
    "# Negative Slicing\n",
    "print(example[-3:-1]) \n",
    "Output: \n",
    "['Sunday', 'Monday'] \n",
    "['Monday', 'Tuesday']\n",
    "```"
   ]
  },
  {
   "cell_type": "markdown",
   "id": "fde44907-f706-4355-9ca9-651ed3c27710",
   "metadata": {},
   "source": [
    "**Changing Values in a List:**\n",
    "\n",
    "We can change values at some particular index in a list by accessing the element\n",
    "with [] and then setting it to some other value."
   ]
  },
  {
   "cell_type": "markdown",
   "id": "3b89c839-6398-4d3b-8cf4-6fb445c29395",
   "metadata": {},
   "source": [
    "```python\n",
    "example = [\"Sunday\", \"Monday\", \"Tuesday\", \"Wednesday\"]; \n",
    "print(example) \n",
    "example[0] = \"Saturday\"\n",
    "print(example) \n",
    "Output: \n",
    "['Sunday', 'Monday', 'Tuesday', 'Wednesday'] \n",
    "['Saturday', 'Monday', 'Tuesday', 'Wednesday']\n",
    "```"
   ]
  },
  {
   "cell_type": "markdown",
   "id": "c4925deb-2fc9-4617-9b7d-a993c9e60cc0",
   "metadata": {},
   "source": [
    "**List Concatenation and Replication:**"
   ]
  },
  {
   "cell_type": "markdown",
   "id": "b9780990-6577-49b9-b23e-061839e4eb07",
   "metadata": {},
   "source": [
    "When we merge the contents of 2 lists into one list, it is called list concatenation."
   ]
  },
  {
   "cell_type": "markdown",
   "id": "2a174c91-faaf-4f8b-9a4f-d8564b43c4b4",
   "metadata": {},
   "source": [
    "```python\n",
    "example = [\"Sunday\", \"Monday\", \"Tuesday\", \"Wednesday\"]; \n",
    "example1 = [\"Weekdays\", \"Weekends\"] \n",
    "# Concatenation\n",
    "example = example + example1 \n",
    "print(example) \n",
    "Output: \n",
    "['Sunday', 'Monday', 'Tuesday', 'Wednesday', 'Weekdays', 'Weekends']\n",
    "```"
   ]
  },
  {
   "cell_type": "markdown",
   "id": "5b89c83b-7c27-4f2c-aade-74acd64fec5e",
   "metadata": {},
   "source": [
    "Copying the contents of a list, some finite number of times into the same or some list\n",
    "is called list replication."
   ]
  },
  {
   "cell_type": "markdown",
   "id": "1e85bafb-8d63-4d52-8e35-146cc019f063",
   "metadata": {},
   "source": [
    "```python\n",
    "example = [\"Sunday\", \"Monday\", \"Tuesday\", \"Wednesday\"]; \n",
    "example1 = [\"Weekdays\", \"Weekends\"] \n",
    "# Replication\n",
    "example1 = example1 * 3\n",
    "print(example1) \n",
    "Output: \n",
    "['Weekdays', 'Weekends', 'Weekdays', 'Weekends', 'Weekdays', 'Weekends']\n",
    "```"
   ]
  },
  {
   "cell_type": "markdown",
   "id": "366ddba4-3c41-435f-ad46-c796ee2d871c",
   "metadata": {},
   "source": [
    "- Delete values from Lists:"
   ]
  },
  {
   "cell_type": "markdown",
   "id": "10ac1912-ad7e-4eb2-9093-a2cd350af6ca",
   "metadata": {},
   "source": [
    "We can delete a particular element from a list by using the del keyword.\n"
   ]
  },
  {
   "cell_type": "markdown",
   "id": "43f420d8-b359-4c4b-b9cb-72c466ca352e",
   "metadata": {},
   "source": [
    "```python\n",
    "example = [\"Sunday\", \"Monday\", \"Tuesday\", \"Wednesday\"]; \n",
    "print(example) \n",
    "del example[2] \n",
    "print(example) \n",
    "Output: \n",
    "['Sunday', 'Monday', 'Tuesday', 'Wednesday'] \n",
    "['Sunday', 'Monday', 'Wednesday']\n",
    "```"
   ]
  },
  {
   "cell_type": "markdown",
   "id": "eea41f22-cba9-474c-86c3-3a410943d0c0",
   "metadata": {},
   "source": [
    "**Looping through Lists:**\n",
    "\n",
    "The below example shows how we can iterate over all the elements present in a\n",
    "list."
   ]
  },
  {
   "cell_type": "markdown",
   "id": "3d0259d8-ed30-4eeb-a544-4d95c0c850dc",
   "metadata": {},
   "source": [
    "```python\n",
    "example = [\"Sunday\", \"Monday\", \"Tuesday\", \"Wednesday\"]; \n",
    "for ex in example: \n",
    " print(ex) \n",
    " \n",
    "Output: \n",
    "Sunday \n",
    "Monday \n",
    "Tuesday \n",
    "Wednesday\n",
    "```"
   ]
  },
  {
   "cell_type": "markdown",
   "id": "a8a5badb-edef-4e3b-8555-d4366209e825",
   "metadata": {},
   "source": [
    "**Adding Values in Lists:**"
   ]
  },
  {
   "cell_type": "markdown",
   "id": "2cd9a9e2-3385-446d-8503-4c2d9ca14c49",
   "metadata": {},
   "source": [
    "**insert():** This function inserts an element into a particular index of a list."
   ]
  },
  {
   "cell_type": "markdown",
   "id": "ab060d0b-6969-4cd2-a7fa-aa1b0989ccea",
   "metadata": {},
   "source": [
    "```python\n",
    "example = [\"Sunday\", \"Monday\", \"Tuesday\", \"Wednesday\"]; \n",
    "print(example) \n",
    "example.insert(1, 'Days') \n",
    "print(example) \n",
    "Output: \n",
    "['Sunday', 'Monday', 'Tuesday', 'Wednesday'] \n",
    "['Sunday', 'Days', 'Monday', 'Tuesday', 'Wednesday']\n",
    "```\n"
   ]
  },
  {
   "cell_type": "markdown",
   "id": "8dd0dd88-3483-40a7-9c04-d65c7623adfe",
   "metadata": {},
   "source": [
    "**append():** This function appends an element at the back of a list."
   ]
  },
  {
   "cell_type": "markdown",
   "id": "5daae9e9-1de3-4174-8f39-381626a7e72f",
   "metadata": {},
   "source": [
    "```python\n",
    "example = [\"Sunday\", \"Monday\", \"Tuesday\", \"Wednesday\"]; \n",
    "print(example) \n",
    "example.append('Days') \n",
    "print(example) \n",
    "Output: \n",
    "['Sunday', 'Monday', 'Tuesday', 'Wednesday'] \n",
    "['Sunday', 'Monday', 'Tuesday', 'Wednesday', 'Days']\n",
    "```"
   ]
  },
  {
   "cell_type": "markdown",
   "id": "83321029-270a-4a2b-b377-271a94d36349",
   "metadata": {},
   "source": [
    "**Sorting a List:**\n",
    "\n"
   ]
  },
  {
   "cell_type": "markdown",
   "id": "65877b10-132a-4ef4-b15c-23f053b04731",
   "metadata": {},
   "source": [
    "Sorting a list means arranging the elements of the list in some particular order.\n",
    "We sort a list by using the **sort()** function.\n"
   ]
  },
  {
   "cell_type": "markdown",
   "id": "34cafc60-7de8-4570-951b-b78446db6051",
   "metadata": {},
   "source": [
    "```python\n",
    "# Sorts in lexicographical order\n",
    "example = [\"Sunday\", \"Monday\", \"Tuesday\", \"Wednesday\"]; \n",
    "print(example) \n",
    "# Sort in ascending order\n",
    "example.sort() \n",
    "print(example) \n",
    "# Sort in descending order\n",
    "example.sort(reverse = True) \n",
    "print(example) \n",
    "example = [1, 5, 3, 7, 2] \n",
    "# Sort in ascending order\n",
    "example.sort() \n",
    "print(example) \n",
    "# Sort in descending order\n",
    "example.sort(reverse = True) \n",
    "print(example) \n",
    "Output: \n",
    "['Sunday', 'Monday', 'Tuesday', 'Wednesday'] \n",
    "['Monday', 'Sunday', 'Tuesday', 'Wednesday'] \n",
    "['Wednesday', 'Tuesday', 'Sunday', 'Monday'] \n",
    "[1, 2, 3, 5, 7] \n",
    "[7, 5, 3, 2, 1]\n",
    "```"
   ]
  },
  {
   "cell_type": "markdown",
   "id": "faa40dbe-ceb7-4d09-891c-9c653511717e",
   "metadata": {},
   "source": [
    "**16. Tuples in Python**"
   ]
  },
  {
   "cell_type": "markdown",
   "id": "1e3cc5b8-675d-4d5d-898f-c0c2ca657c9f",
   "metadata": {},
   "source": [
    "Tuples are entities in Python that work almost similar to that of lists, but differ in the\n",
    "main feature from lists, is in that they are inmutable.\n",
    "\n",
    "They are initialized by writing the elements of the tuple with (), separated by\n",
    "commas.\n"
   ]
  },
  {
   "cell_type": "markdown",
   "id": "fab0d923-07ac-429d-a342-bda7bf97b3b5",
   "metadata": {},
   "source": [
    "```python\n",
    "# Defining and Initializing a tuple called example\n",
    "example = (\"First\", \"Second\", \"Third\", \"Fourth\") \n",
    "print(example) \n",
    "print(example[1:3]) \n",
    "Output: \n",
    "('First', 'Second', 'Third', 'Fourth') \n",
    "('Second', 'Third')\n",
    "```"
   ]
  },
  {
   "cell_type": "markdown",
   "id": "30ded2af-e043-4c43-9ce3-7548c6a3baf2",
   "metadata": {},
   "source": [
    "Type Converting between Tuples, Lists, and Strings:"
   ]
  },
  {
   "cell_type": "markdown",
   "id": "41ccb639-41c4-4142-b96b-e87bfdfab673",
   "metadata": {},
   "source": [
    "```python\n",
    "# Convert list to a tuple\n",
    "tuple(['first', 'second', 'third']) \n",
    "# Convert tuple to a list\n",
    "list(('first', 'second', 'third')) \n",
    "# Convert string to a list\n",
    "list(\"Scaler\")\n",
    "```"
   ]
  },
  {
   "cell_type": "markdown",
   "id": "040a7b23-9a68-4b9a-8e65-45891dd6f949",
   "metadata": {},
   "source": [
    "**17. Python Dictionaries**"
   ]
  },
  {
   "cell_type": "markdown",
   "id": "76f67485-e140-4ef3-9c73-313115ef7b66",
   "metadata": {},
   "source": [
    "Dictionaries in Python are equivalent to Maps in C++/JAVA. They are used to store\n",
    "data in key-value pairs."
   ]
  },
  {
   "cell_type": "markdown",
   "id": "9cfc4a3f-acd7-4cd7-af43-a7d7992e92e2",
   "metadata": {},
   "source": [
    "**Printing key and values in dictionaries:**\n",
    "\n",
    "To print the keys of the dictionary, use the .keys() method and to print the values, use\n",
    ".values() method."
   ]
  },
  {
   "cell_type": "markdown",
   "id": "ce197ab7-0408-4c8d-a3f5-0729c8145d3d",
   "metadata": {},
   "source": [
    "```python\n",
    "dict = {'first' : 'sunday', 'second' : 'monday', 'third' : 'tuesday'} \n",
    "# dict.keys() method will print only the keys of the dictionary\n",
    "for key in dict.keys(): \n",
    " print(key) \n",
    "# dict.values() method will print only the values of the corressponding keys of the dic\n",
    "for value in dict.values(): \n",
    " print(value) \n",
    " \n",
    "Output: \n",
    "first \n",
    "second \n",
    "third \n",
    "sunday \n",
    "monday \n",
    "tuesday\n",
    "```"
   ]
  },
  {
   "cell_type": "markdown",
   "id": "6e9a795e-740c-45fe-9343-744f7f611633",
   "metadata": {},
   "source": [
    "**Update key value in dictionary:**\n",
    "\n",
    "Update key value which is not present in dictionary:"
   ]
  },
  {
   "cell_type": "markdown",
   "id": "f5fe7cae-6a6b-4cec-922f-597897c005e6",
   "metadata": {},
   "source": [
    "We can update a key value in a dictionary by accessing the key withing [] and\n",
    "setting it to a value.\n"
   ]
  },
  {
   "cell_type": "markdown",
   "id": "0203f4bc-cefb-41fe-8994-bc62c5681301",
   "metadata": {},
   "source": [
    "```python\n",
    "dict = {'first' : 'sunday', 'second' : 'monday', 'third' : 'tuesday'} \n",
    "for item in dict.items(): \n",
    " print(item) \n",
    "dict['fourth'] = 'wednesday'\n",
    "for item in dict.items(): \n",
    " print(item) \n",
    "Output: \n",
    " ('first', 'sunday') \n",
    " ('second', 'monday') \n",
    " ('third', 'tuesday') \n",
    " ('first', 'sunday') \n",
    " ('second', 'monday') \n",
    " ('third', 'tuesday') \n",
    " ('fourth', 'wednesday')\n",
    "```"
   ]
  },
  {
   "cell_type": "markdown",
   "id": "e06508c8-ec3f-4737-9e8c-d60f670b141d",
   "metadata": {},
   "source": [
    "**Update key value which is present in the dictionary:**\n",
    "    \n",
    "We can update a key value in a dictionary, when the key is present in the exact\n",
    "same way as we update a key, when the key is not present in the dictionary.\n"
   ]
  },
  {
   "cell_type": "markdown",
   "id": "992e2c8a-8fd4-4a60-9956-3abe215bc9fc",
   "metadata": {},
   "source": [
    "```python\n",
    "dict = {'first' : 'sunday', 'second' : 'monday', 'third' : 'tuesday'} \n",
    "for item in dict.items(): \n",
    " print(item) \n",
    "dict['third'] = 'wednesday'\n",
    "for item in dict.items(): \n",
    " print(item) \n",
    "Output: \n",
    " ('first', 'sunday') \n",
    " ('second', 'monday') \n",
    " ('third', 'tuesday') \n",
    " ('first', 'sunday') \n",
    " ('second', 'monday') \n",
    " ('third', 'wednesday')\n",
    "```"
   ]
  },
  {
   "cell_type": "markdown",
   "id": "378ee82f-af82-4814-9c26-ad1b9de5f652",
   "metadata": {},
   "source": [
    "**Delete key-value pair from dictionary:**"
   ]
  },
  {
   "cell_type": "markdown",
   "id": "2a88389b-50bf-454e-aadd-fd5779153e1b",
   "metadata": {},
   "source": [
    "We can delete a key-value pair from a dictionary using the del keyword followed\n",
    "by the key value to be deleted enclosed in [].\n"
   ]
  },
  {
   "cell_type": "markdown",
   "id": "9c5a4d16-4174-48cb-9a45-3d7a74a7ce95",
   "metadata": {},
   "source": [
    "**18. Sets in Python**\n"
   ]
  },
  {
   "cell_type": "markdown",
   "id": "1dfcf178-9150-4e3b-b639-6f30905d47d0",
   "metadata": {},
   "source": [
    "**Initializing Sets:**\n"
   ]
  },
  {
   "cell_type": "markdown",
   "id": "9498e50a-65c5-432f-93a9-dbe6fccb942f",
   "metadata": {},
   "source": [
    "Sets are initialized using curly braces {} or set() in python.\n",
    "\n",
    "A python set is basically an unordered collection of unique values, i.e. it will\n",
    "automatically remove duplicate values from the set."
   ]
  },
  {
   "cell_type": "markdown",
   "id": "2517572f-32f9-4536-bba5-35e020c904a4",
   "metadata": {},
   "source": [
    "```python\n",
    "s = {1, 2, 3} \n",
    "print(s) \n",
    "s = set([1, 2, 3]) \n",
    "print(s) \n",
    "s = {1, 2, 3, 3, 2, 4, 5, 5} \n",
    "print(s) \n",
    "Output: \n",
    "{1, 2, 3} \n",
    "{1, 2, 3} \n",
    "{1, 2, 3, 4, 5}\n",
    "```"
   ]
  },
  {
   "cell_type": "markdown",
   "id": "e2faa39e-3935-4f0b-a2ec-4d006407a50e",
   "metadata": {},
   "source": [
    "**Inserting elements in set:**"
   ]
  },
  {
   "cell_type": "markdown",
   "id": "10526cdc-a2c0-416d-a9c8-7d38248178ea",
   "metadata": {},
   "source": [
    "We can insert a single element into a set using the add function of sets."
   ]
  },
  {
   "cell_type": "markdown",
   "id": "9cac6dfc-5cb6-4ff9-9d50-1bef645904e6",
   "metadata": {},
   "source": [
    "```python\n",
    "s = {1, 2, 3, 3, 2, 4, 5, 5} \n",
    "print(s) \n",
    "# Insert single element\n",
    "s.add(6) \n",
    "print(s) \n",
    "Output: \n",
    "{1, 2, 3, 4, 5} \n",
    "{1, 2, 3, 4, 5, 6}\n",
    "```"
   ]
  },
  {
   "cell_type": "markdown",
   "id": "13065408-add8-410d-a643-5a32a19995b9",
   "metadata": {},
   "source": [
    "To insert multiple elements into a set, we use the update function and pass a list of\n",
    "elements to be inserted as parameters."
   ]
  },
  {
   "cell_type": "markdown",
   "id": "c42200e2-0811-4985-8015-78c367c2a006",
   "metadata": {},
   "source": [
    "```python\n",
    "s = {1, 2, 3, 3, 2, 4, 5, 5} \n",
    "# Insert multiple elements\n",
    "s.update([6, 7, 8]) \n",
    "print(s) \n",
    "Output: \n",
    "{1, 2, 3, 4, 5, 6, 7, 8}\n",
    "```"
   ]
  },
  {
   "cell_type": "markdown",
   "id": "f28f4556-3641-42ee-b5be-c582a430bb38",
   "metadata": {},
   "source": [
    "**Deleting elements from the set:**"
   ]
  },
  {
   "cell_type": "markdown",
   "id": "607bfcfd-685a-4682-bfa0-effd331bdf7d",
   "metadata": {},
   "source": [
    "We can delete elements from a set using either the remove() or the discard()\n",
    "function.\n"
   ]
  },
  {
   "cell_type": "markdown",
   "id": "07933b8a-3ad2-4ff9-9d39-c4dfeed31411",
   "metadata": {},
   "source": [
    "```python\n",
    "s = {1, 2, 3, 3, 2, 4, 5, 5} \n",
    "print(s) \n",
    "# Remove will raise an error if the element is not in the set\n",
    "s.remove(4) \n",
    "print(s) \n",
    "# Discard doesn't raise any errors\n",
    "s.discard(1) \n",
    "print(s) \n",
    "Output: \n",
    "{1, 2, 3, 4, 5} \n",
    "{1, 2, 3, 5} \n",
    "{2, 3, 5}\n",
    "```"
   ]
  },
  {
   "cell_type": "markdown",
   "id": "0f2947b7-e4b4-48dc-b548-6e7e315ad809",
   "metadata": {},
   "source": [
    "**Operators in sets:**\n"
   ]
  },
  {
   "cell_type": "markdown",
   "id": "91c50c9f-e5ef-44a6-b69c-b6c4a8564104",
   "metadata": {},
   "source": [
    "The below table shows the operators used for sets:"
   ]
  },
  {
   "cell_type": "markdown",
   "id": "74184b3a-6346-41b4-bed9-4518a6ef145b",
   "metadata": {},
   "source": [
    " |Operators | What it does |\n",
    " | :- | :- |\n",
    " | (Union) | Returns all the unique elements in both the sets.|\n",
    " |& (Intersection) | Returns all the elements common to both the sets.|\n",
    " |- (Difference) | Returns the elements that are unique to the first set|\n",
    " |^(Symmetric | Difference)|\n",
    " |Returns  |all the elements not common to both the sets.|"
   ]
  },
  {
   "cell_type": "markdown",
   "id": "cab2b5a4-b59f-4f76-b292-33de0e08ea6f",
   "metadata": {},
   "source": [
    "**Examples:**"
   ]
  },
  {
   "cell_type": "markdown",
   "id": "9c8023ec-3767-49ae-b4ce-120dd357fd02",
   "metadata": {},
   "source": [
    "```python\n",
    "a = {1, 2, 3, 3, 2, 4, 5, 5} \n",
    "b = {4, 6, 7, 9, 3} \n",
    "# Performs the Intersection of 2 sets and prints them\n",
    "print(a & b) \n",
    "# Performs the Union of 2 sets and prints them\n",
    "print(a | b) \n",
    "# Performs the Difference of 2 sets and prints them\n",
    "print(a - b) \n",
    "# Performs the Symmetric Difference of 2 sets and prints them\n",
    "print(a ^ b) \n",
    "Output: \n",
    "{3, 4} \n",
    "{1, 2, 3, 4, 5, 6, 7, 9} \n",
    "{1, 2, 5} \n",
    "{1, 2, 5, 6, 7, 9}\n",
    "```"
   ]
  },
  {
   "cell_type": "markdown",
   "id": "5272be51-c67b-4e9a-bd6c-f911bd8eaef9",
   "metadata": {},
   "source": [
    "**19. String Manipulation in Python**\n"
   ]
  },
  {
   "cell_type": "markdown",
   "id": "a0336deb-ed36-48d0-a2c9-c8e86c217234",
   "metadata": {},
   "source": [
    "- Escape Sequences:\n"
   ]
  },
  {
   "cell_type": "markdown",
   "id": "eb1ef9a4-f544-448d-88ae-00dbab466ad9",
   "metadata": {},
   "source": [
    "Escape Sequences are used to print certain characters to the output stream which\n",
    "carry special meaning to the language compiler."
   ]
  },
  {
   "cell_type": "markdown",
   "id": "f1c1e25a-078a-44a2-a188-e31bc701c973",
   "metadata": {},
   "source": [
    "**Examples:**\n"
   ]
  },
  {
   "cell_type": "markdown",
   "id": "255fa0dd-f53c-4d2c-83d9-d65e917698ba",
   "metadata": {},
   "source": [
    "|Escape| Sequence Results in|\n",
    "| :- | :- |    \n",
    "| \\t | Tab Space|\n",
    "| \\n |Newline|\n",
    "| \\\\ |Backslash|\n",
    "| \\’ | Single Quote|"
   ]
  },
  {
   "cell_type": "markdown",
   "id": "27e431b4-4464-4754-a0f4-44a17d1b80b5",
   "metadata": {},
   "source": [
    "**Multiline Strings:**"
   ]
  },
  {
   "cell_type": "markdown",
   "id": "eaab63ca-d2f2-4468-ac6f-57154f412af8",
   "metadata": {},
   "source": [
    "Multiline Strings are used in python through triple quotes '''\n",
    "Example:"
   ]
  },
  {
   "cell_type": "markdown",
   "id": "c1ffe2e7-b4b4-4c62-a1ce-397f93ade2c0",
   "metadata": {},
   "source": [
    "```python\n",
    "a = ''' Hello \n",
    " World! \n",
    " This is a \n",
    " Multiline String.'''\n",
    " \n",
    "print(a) \n",
    "Output: \n",
    "Hello \n",
    "World! \n",
    "This is a \n",
    "Multiline String.\n",
    "```"
   ]
  },
  {
   "cell_type": "markdown",
   "id": "894ced54-6620-431c-9b23-56123293d45a",
   "metadata": {},
   "source": [
    "- Strings Indexing:"
   ]
  },
  {
   "cell_type": "markdown",
   "id": "231a5af6-94b8-4492-b974-dd52afa34d88",
   "metadata": {},
   "source": [
    "Strings in Python are indexed the same way as a list of characters, based on 0-based\n",
    "indexing. We can access elements of a string at some index by using the [] operators."
   ]
  },
  {
   "cell_type": "markdown",
   "id": "0091b951-1794-4e85-87af-31b8ccbc355a",
   "metadata": {},
   "source": [
    "```python\n",
    "a = \"Python\"\n",
    "print(a[0], a[2], a[4]) \n",
    "print(a[-1], a[-3], a[-5]) \n",
    "Output: \n",
    "P t o \n",
    "n h y\n",
    "```"
   ]
  },
  {
   "cell_type": "markdown",
   "id": "6bff5504-f39b-4b67-8af7-f020677dce9a",
   "metadata": {},
   "source": [
    "- Strings Slicing:\n"
   ]
  },
  {
   "cell_type": "markdown",
   "id": "7aa8e2be-8f08-4a6b-b26b-fd17794049a1",
   "metadata": {},
   "source": [
    "Slicing is also done the same way as in lists."
   ]
  },
  {
   "cell_type": "markdown",
   "id": "1a9665de-f448-4814-bede-526e552dc19e",
   "metadata": {},
   "source": [
    "```python\n",
    "a = \"Hello\"\n",
    "# Slices the string from 0 to 3 indexes\n",
    "print(a[0:3]) \n",
    "# Slices the string from 3 to -1(same as 4) indexes\n",
    "print(a[3:-1]) \n",
    "Output: \n",
    "Hel \n",
    "l\n",
    "```"
   ]
  },
  {
   "cell_type": "markdown",
   "id": "cbd2906a-e112-4271-9f13-29e7789ca47b",
   "metadata": {},
   "source": [
    "- Case Conversion Functions:"
   ]
  },
  {
   "cell_type": "markdown",
   "id": "87e78bc5-53b4-4456-b2c5-0ae88e9c6621",
   "metadata": {},
   "source": [
    "The upper() and lower() functions are used to convert a string of letters into\n",
    "uppercase or lowercase respectively."
   ]
  },
  {
   "cell_type": "markdown",
   "id": "977c032f-b515-401c-881e-e007b653ba2c",
   "metadata": {},
   "source": [
    "The isupper() and islower() functions are used to check if a string is in all uppercase or\n",
    "lowercase respectively."
   ]
  },
  {
   "cell_type": "markdown",
   "id": "cfa2ef70-13c6-43b9-ba87-03b370e94018",
   "metadata": {},
   "source": [
    "```python\n",
    "a = \"Hello\"\n",
    "print(a) \n",
    "# Converts string to uppercase\n",
    "print(a.upper()) \n",
    "# Converts string to lowercase\n",
    "print(a.lower()) \n",
    "# Checks if string is uppercase\n",
    "print(a.isupper()) \n",
    "# Checks if string is lowercase\n",
    "print(a.islower()) \n",
    "Output: \n",
    "Hello \n",
    "HELLO \n",
    "hello \n",
    "False\n",
    "False\n",
    "```"
   ]
  },
  {
   "cell_type": "markdown",
   "id": "36eb5070-d6a1-49b5-a686-1795042febea",
   "metadata": {},
   "source": [
    "- join() and split() Functions:"
   ]
  },
  {
   "cell_type": "markdown",
   "id": "04dd8180-35b5-4fb0-be04-067caaa6fbd8",
   "metadata": {},
   "source": [
    "join() function merges elements of a list with some delimiter string, and returns the\n",
    "result as a string."
   ]
  },
  {
   "cell_type": "markdown",
   "id": "e2cb8e89-6092-4763-99dd-62fcf6f043f8",
   "metadata": {},
   "source": [
    "```python\n",
    "list = [\"One\", \"Two\", \"Three\"] \n",
    "# join function\n",
    "s = ','.join(list) \n",
    "print(s) \n",
    "Output: \n",
    "One,Two,Three\n",
    "```"
   ]
  },
  {
   "cell_type": "markdown",
   "id": "e7ba63c9-5130-4236-a8c4-8f5fff1771e8",
   "metadata": {},
   "source": [
    "split() function splits the into tokens, based on some delimiters and returns the result\n",
    "as a list."
   ]
  },
  {
   "cell_type": "markdown",
   "id": "41d8dc77-0fa8-47d7-ae05-a66c946c2d2f",
   "metadata": {},
   "source": [
    "```python\n",
    "# split function\n",
    "newList = s.split(',') \n",
    "print(newList) \n",
    "Output: \n",
    "['One', 'Two', 'Three']\n",
    "```"
   ]
  },
  {
   "cell_type": "markdown",
   "id": "54ebc5be-1889-4115-9bee-7085c3db9a75",
   "metadata": {},
   "source": [
    "- String Formatting:\n"
   ]
  },
  {
   "cell_type": "markdown",
   "id": "4326a950-aba8-4622-97d1-7b73478af548",
   "metadata": {},
   "source": [
    "String Formatting is done with the str.format() function."
   ]
  },
  {
   "cell_type": "markdown",
   "id": "f56b3d22-f976-4bb6-af40-7d2d13430583",
   "metadata": {},
   "source": [
    "```python\n",
    "first = \"first\"\n",
    "second = \"second\"\n",
    "s = \"Sunday is the {} day of the week, whereas Monday is the {} day of the week\".format\n",
    "print(s) \n",
    "Output: \n",
    "Sunday is the first day of the week, whereas Monday is the second day of the week\n",
    "```"
   ]
  },
  {
   "cell_type": "markdown",
   "id": "a1b509fa-f4d0-4d53-a850-e78e168d1e28",
   "metadata": {},
   "source": [
    "#### 20. Python RegEx\n"
   ]
  },
  {
   "cell_type": "markdown",
   "id": "67bec259-c740-4384-bb80-96ab18d4a024",
   "metadata": {},
   "source": [
    "- Regex Matching"
   ]
  },
  {
   "cell_type": "markdown",
   "id": "a0f03322-93b1-4a3a-953e-49eff1cef189",
   "metadata": {},
   "source": [
    "The re module in python allows us to perform regex matching operations."
   ]
  },
  {
   "cell_type": "markdown",
   "id": "466a7819-70bb-4a95-a0da-7d1c018794c1",
   "metadata": {},
   "source": [
    "```python\n",
    "import re \n",
    "landline = re.compile(r'\\d\\d\\d\\d-\\d\\d\\d\\d') \n",
    "num = landline.search('LandLine Number is 2435-4153') \n",
    "print('Landline Number is: {}'.format(num.group())) \n",
    "Output: \n",
    "Landline Number is: 2435-4153\n",
    "```"
   ]
  },
  {
   "cell_type": "markdown",
   "id": "54545dc4-505d-4170-8255-653c7ab5cce4",
   "metadata": {},
   "source": [
    "The above example landline number from the string and stores it appropriately in the\n",
    "num variable using regex matching."
   ]
  },
  {
   "cell_type": "markdown",
   "id": "c3b5001a-f739-4017-ba0a-0b5ef49580e7",
   "metadata": {},
   "source": [
    "- Parenthesis Grouping\n"
   ]
  },
  {
   "cell_type": "markdown",
   "id": "0d5f313d-8c18-4ec7-a5e4-5281a9946b4a",
   "metadata": {},
   "source": [
    "A group is a part of a regex pattern enclosed in parenthesis (). We can put matches\n",
    "into different groups using the parenthesis (). We can access the groups using group()\n",
    "function."
   ]
  },
  {
   "cell_type": "markdown",
   "id": "9608276d-b4f3-4b36-9315-7743bd2db877",
   "metadata": {},
   "source": [
    "```python\n",
    "import re \n",
    "landline = re.compile(r'(\\d\\d\\d\\d)-(\\d\\d\\d\\d)') \n",
    "num = landline.search('LandLine Number is 2435-4153') \n",
    "# This will print the first group, which is the entire regex enclosed in the brackets\n",
    "print(num.group(0)) \n",
    "# This will print the second group, which is the nested regex enclosed in the 1st set o\n",
    "print(num.group(1)) \n",
    "# This will print the third group, which is the nested regex enclosed in the 2nd set of\n",
    "print(num.group(2)) \n",
    "Output: \n",
    "2435-4153\n",
    "2435\n",
    "4153\n",
    "```"
   ]
  },
  {
   "cell_type": "markdown",
   "id": "1b3f9256-986a-4ec7-9981-4fb31f1d7f64",
   "metadata": {},
   "source": [
    "**Class**\n"
   ]
  },
  {
   "cell_type": "markdown",
   "id": "09faafb6-7b5c-4657-9da1-f47e3ed97646",
   "metadata": {},
   "source": [
    "Since Python is an object-oriented programming language almost every element of \n",
    "it is an object — with its methods and properties. "
   ]
  },
  {
   "cell_type": "markdown",
   "id": "fae2e977-f817-47fd-8b68-1d3979044c67",
   "metadata": {},
   "source": [
    "**Class** acts as a blueprint for creating different objects. Objects are an instance of a \n",
    "class, where the class is manifested in some program."
   ]
  },
  {
   "cell_type": "markdown",
   "id": "bc9a55fa-a3d3-4078-864d-54e045941f4e",
   "metadata": {},
   "source": [
    "- How to Create a Class\n"
   ]
  },
  {
   "cell_type": "markdown",
   "id": "aff7c600-5a4f-448b-bca6-5be833f48132",
   "metadata": {},
   "source": [
    "Let’s create a class named TestClass, with one property named z:"
   ]
  },
  {
   "cell_type": "markdown",
   "id": "3b286447-21ec-46df-b1bd-8a8533a678b9",
   "metadata": {},
   "source": [
    "```python\n",
    "class TestClass: \n",
    " z = 5\n",
    "```"
   ]
  },
  {
   "cell_type": "markdown",
   "id": "f2f338c5-0d2e-4e0c-8de7-9b16c3fc8683",
   "metadata": {},
   "source": [
    "- How To Create an Object\n"
   ]
  },
  {
   "cell_type": "markdown",
   "id": "5870cb6e-4efc-4eab-9b22-265e14a5a0bc",
   "metadata": {},
   "source": [
    "As a next step, you can create an object using your class. Here’s how it’s done:"
   ]
  },
  {
   "cell_type": "markdown",
   "id": "159309eb-f94b-4a69-9ab9-0e5a8be349ed",
   "metadata": {},
   "source": [
    "```python\n",
    "p1 = TestClass() \n",
    "print(p1.x)\n",
    "```"
   ]
  },
  {
   "cell_type": "markdown",
   "id": "c2d6a895-5f85-4663-aac6-fa8b6be5b215",
   "metadata": {},
   "source": [
    "Further, you can assign different attributes and methods to your object. The \n",
    "example is below:\n"
   ]
  },
  {
   "cell_type": "markdown",
   "id": "e7184d55-89b0-4448-a1bc-e4fab7b13183",
   "metadata": {},
   "source": [
    "```python\n",
    "class car(object): \n",
    " “””docstring”””\n",
    " def __init__(self, color, doors, tires): \n",
    " “””Constructor”””\n",
    " self.color = color \n",
    " self.doors = doors \n",
    " self.tires = tires \n",
    " def brake(self): \n",
    " “”” \n",
    " Stop the car \n",
    " “””\n",
    " return “Braking”\n",
    " def drive(self): \n",
    " “”” \n",
    " Drive the car \n",
    " “””\n",
    " return “I’m driving!”\n",
    "```\n"
   ]
  },
  {
   "cell_type": "code",
   "execution_count": null,
   "id": "6f00e047-ee02-47ad-becf-b3996ea2a9c3",
   "metadata": {},
   "outputs": [],
   "source": []
  }
 ],
 "metadata": {
  "kernelspec": {
   "display_name": "Python 3 (ipykernel)",
   "language": "python",
   "name": "python3"
  },
  "language_info": {
   "codemirror_mode": {
    "name": "ipython",
    "version": 3
   },
   "file_extension": ".py",
   "mimetype": "text/x-python",
   "name": "python",
   "nbconvert_exporter": "python",
   "pygments_lexer": "ipython3",
   "version": "3.11.9"
  }
 },
 "nbformat": 4,
 "nbformat_minor": 5
}
