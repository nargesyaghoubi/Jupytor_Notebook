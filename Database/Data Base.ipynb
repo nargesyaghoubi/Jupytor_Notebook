{
 "cells": [
  {
   "cell_type": "markdown",
   "id": "2f8b60c5-e760-48de-826c-7e7157245818",
   "metadata": {},
   "source": [
    "![Data base](https://usa.bootcampcdn.com/wp-content/uploads/sites/106/2020/03/SQL-Coding-Class-San-Francisco-1-1.jpeg)"
   ]
  },
  {
   "cell_type": "markdown",
   "id": "29f1f455-93b0-4bfa-af42-50ae7b3f69e4",
   "metadata": {},
   "source": [
    "**Data Base**"
   ]
  },
  {
   "cell_type": "markdown",
   "id": "53bfa4b8-5938-4f81-ac77-6c52f62119dc",
   "metadata": {},
   "source": [
    "**What is Database?**\n",
    "\n",
    "Database is a collection of interrelated data."
   ]
  },
  {
   "cell_type": "markdown",
   "id": "21e33d01-d71f-4e79-b7fc-4b2c0ae75d90",
   "metadata": {},
   "source": [
    "**What is DBMS?**\n",
    "\n",
    "DBMS (Database Management System) is software used to create, manage, and organize\n",
    "databases.\n",
    "\n"
   ]
  },
  {
   "cell_type": "markdown",
   "id": "b90aeb1e-4d10-4cec-9811-23744a94753b",
   "metadata": {},
   "source": [
    "**What is RDBMS?**\n"
   ]
  },
  {
   "cell_type": "markdown",
   "id": "f8b766ff-337b-49fc-824d-4fac1065a2e0",
   "metadata": {},
   "source": [
    "- RDBMS (Relational Database Management System) - is a DBMS based on the\n",
    "concept of tables (also called relations).\n",
    "\n",
    "- Data is organized into tables (also known as relations) with rows (records) and\n",
    "columns (attributes).\n",
    "\n",
    "- Eg - MySQL, PostgreSQL, Oracle etc."
   ]
  },
  {
   "cell_type": "markdown",
   "id": "299e4cf9-8fe5-4605-ae47-d6543a879e1b",
   "metadata": {},
   "source": [
    "**Database Tables**\n",
    "\n",
    "A database most often contains one or more tables. Each table is identified by a name (e.g. \"Customers\"\n",
    "or \"Orders\"). Tables contain records (rows) with data.\n",
    "\n",
    "Below is an example of a table called \"Persons\":\n",
    "\n",
    "\n",
    "| P_Id | LastName | FirstName | Address|  City| \n",
    "| :- | :- | :- | :- | :- |\n",
    "| 1 | Hansen | Ola | Timoteivn 10 | Sandnes| \n",
    "| 2 |  Svendson | Tove | Borgvn 23 | Sandnes| \n",
    "| 3 | Pettersen |  Kari | Storgt 20 | Stavanger| \n",
    "\n",
    "**What is SQL?**\n",
    "\n",
    "SQL is Structured Query Language - used to store, manipulate and retrieve data from\n",
    "RDBMS.\n",
    "\n",
    "(It is not a database, it is a language used to interact with database)"
   ]
  },
  {
   "cell_type": "markdown",
   "id": "7a8ec658-61bd-4f5a-a809-e991d8f2a959",
   "metadata": {},
   "source": [
    "**We use SQL for CRUD Operations:**\n"
   ]
  },
  {
   "cell_type": "markdown",
   "id": "6725891b-c824-4aaa-ac62-ec2e1a9fcf6e",
   "metadata": {},
   "source": [
    "**● CREATE** - To create databases, tables, insert tuples in tables etc"
   ]
  },
  {
   "cell_type": "markdown",
   "id": "3af3e2a0-3310-42ff-8cc7-390db5393d88",
   "metadata": {},
   "source": [
    "   **● READ** - To read data present in the database."
   ]
  },
  {
   "cell_type": "markdown",
   "id": "4e4c3da6-77b5-49a9-b3e3-0994a4fb949b",
   "metadata": {},
   "source": [
    "**● UPDATE** - Modify already inserted data.\n",
    "\n"
   ]
  },
  {
   "cell_type": "markdown",
   "id": "341d77c2-fb23-4500-aa57-2bfe0caaf447",
   "metadata": {},
   "source": [
    "**● DELETE** - Delete database, table or specific data point/tuple/row or multiple rows.\n"
   ]
  },
  {
   "cell_type": "markdown",
   "id": "fd93861d-0cbf-4304-be74-7053c02445d4",
   "metadata": {},
   "source": [
    ">*Note - SQL keywords are NOT case sensitive. Eg: select is the same as SELECT in SQL.\n"
   ]
  },
  {
   "cell_type": "markdown",
   "id": "10b842d8-9f67-4856-be6a-6729a40e46f3",
   "metadata": {},
   "source": [
    "**What is the difference between SQL and MySQL?**"
   ]
  },
  {
   "cell_type": "markdown",
   "id": "315b122e-bef0-4765-94f9-0fa2c2e890d5",
   "metadata": {},
   "source": [
    "SQL is a standard language for retrieving and manipulating structured databases. On the contrary, MySQL is a relational database \n",
    "management system, like SQL Server, Oracle or IBM DB2, that is used to manage SQL databases."
   ]
  },
  {
   "cell_type": "markdown",
   "id": "b7be6c16-def7-4a52-9475-bd8326349e0a",
   "metadata": {},
   "source": [
    "**SQL Data Types**\n",
    "\n",
    "In SQL, data types define the kind of data that can be stored in a column or variable."
   ]
  },
  {
   "cell_type": "markdown",
   "id": "8a7c9ff2-9e7d-40d2-9863-35ba98424854",
   "metadata": {},
   "source": [
    "*Here are the frequently used SQL data types:*\n"
   ]
  },
  {
   "cell_type": "markdown",
   "id": "1b7a3771-436d-4ae2-8412-ff3cedfd75dc",
   "metadata": {},
   "source": [
    "| DATATYPE|  DESCRIPTION | USAGE |\n",
    "| :- | :- | :- | \n",
    "| CHAR|  string(0-255), can store characters of fixed length | CHAR(50) |\n",
    "| VARCHAR | string(0-255), can store characters up to given length | VARCHAR(50)|\n",
    "| BLOB |  string(0-65535), can store binary large object | BLOB(1000) |\n",
    "| INT |  integer( -2,147,483,648 to 2,147,483,647 )| INT |\n",
    "| TINYINT |  integer(-128 to 127)|  TINYINT\n",
    "| BIGINT | integer( -9,223,372,036,854,775,808 to 9,223,372,036,854,775,807 ) | BIGINT |\n",
    "| BIT |  can store x-bit values. x can range from 1 to 64 | BIT(2) |\n",
    "| FLOAT |  Decimal number - with precision to 23|  digits | FLOAT |\n",
    "| DOUBLE |  Decimal number - with 24 to 53 digits | DOUBLE |\n",
    "| BOOLEAN |  Boolean values 0 or 1 | BOOLEAN |\n",
    "| DATE |  date in format of YYYY-MM-DD ranging from 1000-01-01 to 9999-12-31 | DATE |\n",
    "| TIME |  HH:MM:SS | TIME |\n",
    "| YEAR |  year in 4 digits format ranging from 1901 to 2155 | YEAR |"
   ]
  },
  {
   "cell_type": "markdown",
   "id": "a008c779-00ba-4fba-b09e-3d62b76af464",
   "metadata": {},
   "source": [
    "*Note - CHAR is for fixed length & VARCHAR is for variable length strings. Generally,\n",
    "VARCHAR is better as it only occupies necessary memory & works more efficiently.\n",
    "\n",
    "We can also use UNSIGNED with datatypes when we only have positive values to add.\n",
    "Eg - UNSIGNED INT\n"
   ]
  },
  {
   "cell_type": "markdown",
   "id": "03ae8e77-5cbc-4650-a301-c9344f2ac8b8",
   "metadata": {},
   "source": [
    "1. DQL (Data Query Language) : Used to retrieve data from databases. (SELECT)\n",
    "2. DDL (Data Definition Language) : Used to create, alter, and delete database objects\n",
    "like tables, indexes, etc. (CREATE, DROP, ALTER, RENAME, TRUNCATE)\n",
    "3. DML (Data Manipulation Language): Used to modify the database. (INSERT,\n",
    "UPDATE, DELETE)\n",
    "4. DCL (Data Control Language): Used to grant & revoke permissions. (GRANT,\n",
    "REVOKE)\n",
    "5. TCL (Transaction Control Language): Used to manage transactions. (COMMIT,\n",
    "ROLLBACK, START TRANSACTIONS, SAVEPOINT)"
   ]
  },
  {
   "cell_type": "markdown",
   "id": "6e874503-bc36-49e8-9fc6-91bc712f0832",
   "metadata": {},
   "source": [
    "**1. Data Definition Language (DDL)**"
   ]
  },
  {
   "cell_type": "markdown",
   "id": "6803a330-5fa5-4cf2-842f-75eb9f5be80c",
   "metadata": {},
   "source": [
    "Data Definition Language (DDL) is a subset of SQL (Structured Query Language)\n",
    "responsible for defining and managing the structure of databases and their objects.\n",
    "    \n",
    "DDL commands enable you to create, modify, and delete database objects like tables,\n",
    "indexes, constraints, and more."
   ]
  },
  {
   "cell_type": "markdown",
   "id": "438e0a03-515b-49b3-a17b-438e8fcb997c",
   "metadata": {},
   "source": [
    "*Key DDL Commands are:*"
   ]
  },
  {
   "cell_type": "markdown",
   "id": "b60caead-7ef2-4a6c-9b2b-e31bc3fcd334",
   "metadata": {},
   "source": [
    "- CREATE TABLE:"
   ]
  },
  {
   "cell_type": "markdown",
   "id": "64f4b17b-a2d9-4697-8402-38218f6c3bc9",
   "metadata": {},
   "source": [
    "○ Used to create a new table in the database.\n",
    "\n",
    "○ Specifies the table name, column names, data types, constraints, and more.\n",
    "\n",
    "○ Example:\n",
    "CREATE TABLE employees (id INT PRIMARY KEY, name VARCHAR(50),\n",
    "salary DECIMAL(10, 2));\n"
   ]
  },
  {
   "cell_type": "markdown",
   "id": "8d36b5ef-5a02-4ca0-897c-4614c2525912",
   "metadata": {},
   "source": [
    "- ALTER TABLE:"
   ]
  },
  {
   "cell_type": "markdown",
   "id": "84ea82fb-a47e-4dfc-9a22-3cf4b8e30e02",
   "metadata": {},
   "source": [
    "○ Used to modify the structure of an existing table.\n",
    "\n",
    "○ You can add, modify, or drop columns, constraints, and more.\n",
    "\n",
    "○ Example: ALTER TABLE employees ADD COLUMN email VARCHAR(100)"
   ]
  },
  {
   "cell_type": "markdown",
   "id": "67e1ad96-e8fe-46bc-8b4e-17c11f651892",
   "metadata": {},
   "source": [
    "- DROP TABLE:"
   ]
  },
  {
   "cell_type": "markdown",
   "id": "c3dfbe83-9b82-49bf-b0b4-6949b5bce79e",
   "metadata": {},
   "source": [
    "○ Used to delete an existing table along with its data and structure.\n",
    "\n",
    "○ Example: DROP TABLE employees;\n"
   ]
  },
  {
   "cell_type": "markdown",
   "id": "4668bec0-cc80-45ec-9484-e6e265d7c85e",
   "metadata": {},
   "source": [
    "- CREATE INDEX:"
   ]
  },
  {
   "cell_type": "markdown",
   "id": "93d27c36-fd3f-4944-87cf-343b8b3ff5bc",
   "metadata": {},
   "source": [
    "○ Used to create an index on one or more columns in a table.\n",
    "    \n",
    "○ Improves query performance by enabling faster data retrieval.\n",
    "    \n",
    "○ Example: CREATE INDEX idx_employee_name ON employees (name);\n"
   ]
  },
  {
   "cell_type": "markdown",
   "id": "99069a99-be12-4e3e-a697-179f3bb9b15a",
   "metadata": {},
   "source": [
    "- DROP INDEX:"
   ]
  },
  {
   "cell_type": "markdown",
   "id": "820e174b-8fc2-401d-b503-5084d9e848e7",
   "metadata": {},
   "source": [
    "○ Used to remove an existing index from a table.\n",
    "\n",
    "○ Example: DROP INDEX idx_employee_name;"
   ]
  },
  {
   "cell_type": "markdown",
   "id": "1057f810-6c3d-4adf-b207-712f3516a3d0",
   "metadata": {},
   "source": [
    "- CREATE CONSTRAINT:"
   ]
  },
  {
   "cell_type": "markdown",
   "id": "be82d4e7-65c9-4ba7-ae84-b6dce1121f58",
   "metadata": {},
   "source": [
    "○ Used to define constraints that ensure data integrity.\n",
    "    \n",
    "○ Constraints include PRIMARY KEY, FOREIGN KEY, UNIQUE, NOT NULL,\n",
    "and CHECK.\n",
    "\n",
    "○ Example: ALTER TABLE orders ADD CONSTRAINT fk_customer FOREIGN\n",
    "KEY (customer_id) REFERENCES customers(id);"
   ]
  },
  {
   "cell_type": "markdown",
   "id": "3be2acb1-2937-4e58-af67-334e7470d99a",
   "metadata": {},
   "source": [
    "- DROP CONSTRAINT:"
   ]
  },
  {
   "cell_type": "markdown",
   "id": "65cef98d-5342-410f-a6c1-5e827cfbfcdf",
   "metadata": {},
   "source": [
    "○ Used to remove an existing constraint from a table.\n",
    "\n",
    "○ Example: ALTER TABLE orders DROP CONSTRAINT fk_customer"
   ]
  },
  {
   "cell_type": "markdown",
   "id": "cbdc6c26-537f-47f1-8935-ff4013ac8224",
   "metadata": {},
   "source": [
    "- TRUNCATE TABLE:"
   ]
  },
  {
   "cell_type": "markdown",
   "id": "7af01f32-3081-4507-92b9-31f57e55dbc0",
   "metadata": {},
   "source": [
    "○ Used to delete the data inside a table, but not the table itself.\n",
    "    \n",
    "○ Syntax – TRUNCATE TABLE table_name"
   ]
  },
  {
   "cell_type": "markdown",
   "id": "e50b1c5a-8fb4-4cc5-af03-1a81031ea3ff",
   "metadata": {},
   "source": [
    "**2. DATA QUERY/RETRIEVAL LANGUAGE (DQL or DRL)**\n",
    "\n"
   ]
  },
  {
   "cell_type": "markdown",
   "id": "44af3fff-12ee-4431-8a1d-a369831e6f91",
   "metadata": {},
   "source": [
    "DQL (Data Query Language) is a subset of SQL focused on retrieving data from databases."
   ]
  },
  {
   "cell_type": "markdown",
   "id": "bf0283af-3553-46c0-b060-e42dc64c01ed",
   "metadata": {},
   "source": [
    "The SELECT statement is the foundation of DQL and allows us to extract specific columns\n",
    "from a table."
   ]
  },
  {
   "cell_type": "markdown",
   "id": "d3556ae5-6d30-44ac-9e43-0758113d4f25",
   "metadata": {},
   "source": [
    "- SELECT:\n"
   ]
  },
  {
   "cell_type": "markdown",
   "id": "637c62f2-ad6e-47eb-8e33-53d456c84d4b",
   "metadata": {},
   "source": [
    "The SELECT statement is used to select data from a database"
   ]
  },
  {
   "cell_type": "markdown",
   "id": "c0862dd9-8a02-4a16-a90a-ed4c8d765934",
   "metadata": {},
   "source": [
    "**The SQL SELECT Statement**"
   ]
  },
  {
   "cell_type": "markdown",
   "id": "0efaa2bc-0384-4f6f-9cb2-731434bdbe57",
   "metadata": {},
   "source": [
    "The SELECT statement is used to select data from a database.\n",
    "\n",
    "The result is stored in a result table, called the result-set.\n",
    "\n",
    "SQL SELECT Syntax\n",
    "\n",
    "```sql\n",
    "SELECT column_name(s)\n",
    "FROM table_name\n",
    "```\n",
    "And\n",
    "```sql\n",
    "SELECT * FROM table_name\n",
    "```\n",
    "Note: SQL is not case sensitive. SELECT is the same as select.\n"
   ]
  },
  {
   "cell_type": "markdown",
   "id": "04287a85-96dd-4da4-b2fa-390bb03be84d",
   "metadata": {},
   "source": [
    "An SQL SELECT Example\n",
    "\n",
    "The \"Persons\" table:"
   ]
  },
  {
   "cell_type": "markdown",
   "id": "70f95215-e2db-4d97-a024-e79852594614",
   "metadata": {},
   "source": [
    "| P_Id | LastName | FirstName | Address|  City| \n",
    "| :- | :- | :- | :- | :- |\n",
    "| 1 | Hansen | Ola | Timoteivn 10 | Sandnes| \n",
    "| 2 |  Svendson | Tove | Borgvn 23 | Sandnes| \n",
    "| 3 | Pettersen |  Kari | Storgt 20 | Stavanger| \n"
   ]
  },
  {
   "cell_type": "markdown",
   "id": "271eecea-28f6-47a9-ba88-57c9242260ff",
   "metadata": {},
   "source": [
    "Now we want to select the content of the columns named \"LastName\" and \"FirstName\" from the table\n",
    "above.\n"
   ]
  },
  {
   "cell_type": "markdown",
   "id": "56ded7f4-c0ef-428f-99e5-64d966f56003",
   "metadata": {},
   "source": [
    "We use the following SELECT statement:"
   ]
  },
  {
   "cell_type": "markdown",
   "id": "1ac76251-b4f0-449d-8010-c2b6926c9444",
   "metadata": {},
   "source": [
    "```sql\n",
    "SELECT LastName,FirstName FROM Persons\n",
    "```"
   ]
  },
  {
   "cell_type": "markdown",
   "id": "3ff187b0-ea9d-45dd-bd61-c5a46e799bb1",
   "metadata": {},
   "source": [
    "The result-set will look like this:"
   ]
  },
  {
   "cell_type": "markdown",
   "id": "b64b4ac3-5408-442d-bb5d-f86d9e9ff447",
   "metadata": {
    "scrolled": true
   },
   "source": [
    "|LastName| FirstName|\n",
    "| :- | :- |\n",
    "| Hansen | Ola |\n",
    "| Svendson | Tove |\n",
    "| Pettersen | Kari|"
   ]
  },
  {
   "cell_type": "markdown",
   "id": "4e29004e-478c-4b6e-9e2c-c07ef8694b60",
   "metadata": {},
   "source": [
    "**The WHERE Clause**"
   ]
  },
  {
   "cell_type": "markdown",
   "id": "1d38b7d0-e584-4b31-9b6c-fb50021a2468",
   "metadata": {},
   "source": [
    " - The WHERE clause is used to filter records.\n",
    " \n",
    "-  The WHERE clause is used to extract only those records that fulfill a specified criterion.\n",
    " \n",
    "- SQL WHERE Syntax"
   ]
  },
  {
   "cell_type": "markdown",
   "id": "43ab204d-aac9-4540-9699-0dd797a91621",
   "metadata": {},
   "source": [
    "```sql\n",
    "SELECT column_name(s)\n",
    "FROM table_name\n",
    "WHERE column_name operator value\n",
    "```"
   ]
  },
  {
   "cell_type": "markdown",
   "id": "e8f1ae3f-fd6e-4f25-984d-58f132301fc8",
   "metadata": {},
   "source": [
    "WHERE Clause Example"
   ]
  },
  {
   "cell_type": "markdown",
   "id": "782e72e3-6b12-418b-9917-060ef9886047",
   "metadata": {},
   "source": [
    "The \"Persons\" table:\n"
   ]
  },
  {
   "cell_type": "markdown",
   "id": "bd533ace-fd09-4b15-89b6-b4c2162dd1f5",
   "metadata": {},
   "source": [
    "| P_Id | LastName | FirstName | Address|  City| \n",
    "| :- | :- | :- | :- | :- |\n",
    "| 1 | Hansen | Ola | Timoteivn 10 | Sandnes| \n",
    "| 2 |  Svendson | Tove | Borgvn 23 | Sandnes| \n",
    "| 3 | Pettersen |  Kari | Storgt 20 | Stavanger| "
   ]
  },
  {
   "cell_type": "markdown",
   "id": "48d76033-c7a0-4973-b6a9-24a31e67a1f3",
   "metadata": {},
   "source": [
    "Now we want to select only the persons living in the city \"Sandnes\" from the table above.\n",
    "We use the following SELECT statement:"
   ]
  },
  {
   "cell_type": "markdown",
   "id": "d37e8c4c-49ed-4873-9f98-dbdd9725fc6c",
   "metadata": {},
   "source": [
    "```sql\n",
    "SELECT * FROM Persons\n",
    "WHERE City='Sandnes'\n",
    "```"
   ]
  },
  {
   "cell_type": "markdown",
   "id": "cdc79d29-e0cd-4e36-9644-23ec1c875f51",
   "metadata": {},
   "source": [
    "The result-set will look like this:"
   ]
  },
  {
   "cell_type": "markdown",
   "id": "d09eab01-7630-4032-804c-90251e03bf58",
   "metadata": {},
   "source": [
    "| P_Id | LastName | FirstName | Address | City |\n",
    "| :- | :- | :- | :- | :- |\n",
    "| 1 | Hansen | Ola | Timoteivn 10 | Sandnes |\n",
    "| 2 | Svendson | Tove | Borgvn 23| Sandne s|"
   ]
  },
  {
   "cell_type": "markdown",
   "id": "10a5aa4b-3186-402b-9da6-6ffce9c1c102",
   "metadata": {},
   "source": [
    "**Operators Allowed in the WHERE Clause**"
   ]
  },
  {
   "cell_type": "markdown",
   "id": "b33d8690-dc57-49a4-a068-af6a16267bd9",
   "metadata": {},
   "source": [
    "With the WHERE clause, the following operators can be used:\n"
   ]
  },
  {
   "cell_type": "markdown",
   "id": "fc02ae24-09b0-4391-9b07-c8fcf78fd833",
   "metadata": {},
   "source": [
    "| Operator|  Description| \n",
    "| :- | :- |     \n",
    "| = |  Equal | \n",
    "| <>  |  Not equal | \n",
    "| > |  Greater than | \n",
    "| < |  Less than | \n",
    "| >= |  Greater than or equal | \n",
    "| <= |  Less than or equal | \n",
    "| BETWEEN |  Between an inclusive range | \n",
    "| LIKE |  Search for a pattern | \n",
    "| IN | If you know the exact value you want to return for at least one of the columns | "
   ]
  },
  {
   "cell_type": "markdown",
   "id": "7b3b838b-60a8-4ea8-a3df-4bdd62b2e5a9",
   "metadata": {},
   "source": [
    "**Note:** In some versions of SQL the <> operator may be written as !="
   ]
  },
  {
   "cell_type": "markdown",
   "id": "499431d2-062f-4d44-bfcc-7bff7fb52466",
   "metadata": {},
   "source": [
    "**The AND & OR Operators**\n"
   ]
  },
  {
   "cell_type": "markdown",
   "id": "0bfa29a7-0aa2-4824-b062-e1b7e6298240",
   "metadata": {},
   "source": [
    "- The AND & OR operators are used to filter records based on more than one condition.\n",
    "\n",
    "- The AND operator displays a record if both the first condition and the second condition is true.\n",
    "     \n",
    "- The OR operator displays a record if either the first condition or the second condition is true.\n"
   ]
  },
  {
   "cell_type": "markdown",
   "id": "ee57cc53-1c84-46fc-aa05-90d97d1378b2",
   "metadata": {},
   "source": [
    "**AND Operator Example**"
   ]
  },
  {
   "cell_type": "markdown",
   "id": "4f66ee87-ce44-4aec-a97c-4a5772e266b9",
   "metadata": {},
   "source": [
    "Now we want to select only the persons with the first name equal to \"Tove\" AND the last name equal to\n",
    "\"Svendson\":\n"
   ]
  },
  {
   "cell_type": "markdown",
   "id": "f27cd60b-d9a5-41bb-a65a-d2d5a1bd010c",
   "metadata": {},
   "source": [
    "We use the following SELECT statement:\n"
   ]
  },
  {
   "cell_type": "markdown",
   "id": "bbdf1c67-5f37-41d8-ab5c-cd4157b300c2",
   "metadata": {},
   "source": [
    "```sql\n",
    "SELECT * FROM Persons\n",
    "WHERE FirstName='Tove'AND LastName='Svendson'\n",
    "```"
   ]
  },
  {
   "cell_type": "markdown",
   "id": "c20ba48b-78c5-4f55-8212-a6089060246b",
   "metadata": {},
   "source": [
    "The result-set will look like this:\n"
   ]
  },
  {
   "cell_type": "markdown",
   "id": "f45a927a-99e9-49f6-ab9c-6a86d8422ad0",
   "metadata": {},
   "source": [
    "| P_Id|  LastName|  FirstName|  Address|  City| \n",
    "| :- | :- | :- | :- | :- |\n",
    "| 2 | Svendson|   Tove |  Borgvn 23|  Stavanger| "
   ]
  },
  {
   "cell_type": "markdown",
   "id": "7abc4da4-87e7-43dd-be07-766313a49c4b",
   "metadata": {},
   "source": [
    "**OR Operator Example**\n",
    "We use the following SELECT statement:\n",
    "\n",
    "```sql\n",
    "SELECT * FROM Persons\n",
    "WHERE FirstName='Tove' OR FirstName='Ola'\n",
    "```\n",
    "\n"
   ]
  },
  {
   "cell_type": "markdown",
   "id": "1313e2ff-46ca-4633-b547-863f6c57df14",
   "metadata": {},
   "source": [
    "**Combining AND & OR**"
   ]
  },
  {
   "cell_type": "markdown",
   "id": "83257f67-c791-4063-b31b-aaafda1dd0e5",
   "metadata": {},
   "source": [
    "You can also combine AND and OR (use parenthesis to form complex expressions)."
   ]
  },
  {
   "cell_type": "markdown",
   "id": "b6250110-0bd3-46f8-9bc7-1c6f80d6f5e6",
   "metadata": {},
   "source": [
    "```sql\n",
    "SELECT * FROM Persons \n",
    "WHERE LastName='Svendson' AND (FirstName='Tove' OR FirstName='Ola')\n",
    "```\n"
   ]
  },
  {
   "cell_type": "markdown",
   "id": "7d212ec1-1aa1-44f2-b2fc-122c3b2ba69c",
   "metadata": {},
   "source": [
    "**The ORDER BY Keyword**"
   ]
  },
  {
   "cell_type": "markdown",
   "id": "6d360552-fef9-4d47-9355-b8541eea7cf2",
   "metadata": {},
   "source": [
    "- The ORDER BY keyword is used to sort the result-set.\n",
    "- The ORDER BY keyword is used to sort the result-set by a specified column.\n",
    "- The ORDER BY keyword sort the records in ascending order by default.\n",
    "- If you want to sort the records in a descending order, you can use the DESC keyword.\n",
    "- SQL ORDER BY Synta-"
   ]
  },
  {
   "cell_type": "markdown",
   "id": "d5f1e4ae-4372-414e-a74a-c7158f33e6c4",
   "metadata": {},
   "source": [
    "```sql\n",
    "SELECT column_name(s)\n",
    "FROM table_name ORDER BY column_name(s) ASC|DESC\n",
    "```"
   ]
  },
  {
   "cell_type": "markdown",
   "id": "8b4b4b0d-c545-41f8-adbf-736bcd6f7108",
   "metadata": {},
   "source": [
    "**ORDER BY DESC Example**"
   ]
  },
  {
   "cell_type": "markdown",
   "id": "aaccb7d2-a85f-4221-ae89-28f05ea2a169",
   "metadata": {},
   "source": [
    "```sql\n",
    "SELECT * FROM Persons ORDER BY LastName DESC\n",
    "```"
   ]
  },
  {
   "cell_type": "markdown",
   "id": "d33b063c-faf3-48dd-83f6-f730c538bfab",
   "metadata": {},
   "source": [
    "Now we want to select all the persons from the table above, however, we want to sort the persons\n",
    "descending by their last name"
   ]
  },
  {
   "cell_type": "markdown",
   "id": "68f234d8-1bfa-4156-aa82-d960e43466c0",
   "metadata": {},
   "source": [
    "The result-set will look like this:"
   ]
  },
  {
   "cell_type": "markdown",
   "id": "a32bc799-3b5a-4526-bcdb-ce92bdd4bd98",
   "metadata": {},
   "source": [
    "| P_Id|  LastName|  FirstName|  Address|  City|\n",
    "| :- | :- | :- | :- |:- |\n",
    "| 2|  Svendson|  Tove | Borgvn 23|  Sandnes| \n",
    "| 3|  Pettersen|  Kari | Storgt 20|  Stavanger| \n",
    "| 4 | Nilsen | Tom | Vingvn 23|  Stavanger| \n",
    "| 1|  Hansen | Ola | Timoteivn 10|  Sandnes| "
   ]
  },
  {
   "cell_type": "markdown",
   "id": "d8e6061b-778a-4781-a01b-7de627b2b522",
   "metadata": {},
   "source": [
    "**The INSERT INTO Statement**"
   ]
  },
  {
   "cell_type": "markdown",
   "id": "ca052bbf-4301-4fbe-9741-4842e28ec7cb",
   "metadata": {},
   "source": [
    "- The INSERT INTO statement is used to insert new records in a table.\n",
    "- The INSERT INTO statement is used to insert a new row in a table.\n",
    "- SQL INSERT INTO Syntax\n",
    "- It is possible to write the INSERT INTO statement in two forms.\n",
    "- The first form doesn't specify the column names where the data will be inserted, only their values:-\n",
    "  ```sql\n",
    "  INSERT INTO table_name VALUES (value1, value2, value3,...)\n",
    "  ```\n",
    "- The second form specifies both the column names and the values to be inserted:\n",
    "  ```sql\n",
    "  INSERT INTO table_name (column1, column2, column3,...) VALUES (value1, value2,\n",
    "value3,...)\n",
    "```"
   ]
  },
  {
   "cell_type": "markdown",
   "id": "3e4b10a6-8fba-49a1-9d1b-210341f30ef1",
   "metadata": {},
   "source": [
    "**The UPDATE Statement**"
   ]
  },
  {
   "cell_type": "markdown",
   "id": "2a7356a6-60e0-4ca5-a2ef-7ccb7442bddc",
   "metadata": {},
   "source": [
    "- The UPDATE statement is used to update records in a table.\n",
    "- The UPDATE statement is used to update existing records in a table.\n",
    "- SQL UPDATE Syntax\n",
    "\n",
    "```sql\n",
    "    UPDATE table_name \n",
    "    SET column1=value, column2=value2,... \n",
    "    WHERE some_column=some_value\n",
    "```\n",
    "**Note:** Notice the WHERE clause in the UPDATE syntax. The WHERE clause specifies which record or\n",
    "records that should be updated. If you omit the WHERE clause, all records will be updated!"
   ]
  },
  {
   "cell_type": "markdown",
   "id": "dedbfd69-c45d-4d6e-84fb-63b4c7108609",
   "metadata": {},
   "source": [
    "**The DELETE Statement**"
   ]
  },
  {
   "cell_type": "markdown",
   "id": "a85ea373-56a1-493c-a60c-b2bdaec35373",
   "metadata": {},
   "source": [
    "- The DELETE statement is used to delete records in a table.\n",
    "- The DELETE statement is used to delete rows in a table.\n",
    "- SQL DELETE Syntax\n",
    "```sql\n",
    "    DELETE FROM table_name\n",
    "    WHERE some_column=some_value\n",
    "```\n",
    "**Note:** Notice the WHERE clause in the DELETE syntax. The WHERE clause specifies which record or\n",
    "records that should be deleted. If you omit the WHERE clause, all records will be deleted-"
   ]
  },
  {
   "cell_type": "markdown",
   "id": "0758d159-c1dc-4b2b-ba06-47c1fbc3cbd3",
   "metadata": {},
   "source": [
    "**The SQL UNION Operator**\n"
   ]
  },
  {
   "cell_type": "markdown",
   "id": "f641fac8-5ec0-47d2-afa4-5be06c8e9e49",
   "metadata": {},
   "source": [
    "- The UNION operator is used to combine the result-set of two or more SELECT statements.\n",
    "- Notice that each SELECT statement within the UNION must have the same number of columns.\n",
    "The columns must also have similar data types. Also, the columns in each SELECT statement\n",
    "must be in the same order.\n",
    "- SQL UNION Syntax:\n",
    "```sql\n",
    "    SELECT column_name(s) FROM table_name1\n",
    "    UNION\n",
    "    SELECT column_name(s) FROM table_name2\n",
    "```\n",
    "**Note:** The UNION operator selects only distinct values by default. To allow duplicate values,\n",
    "use UNION ALL-\n",
    "\n",
    "- SQL UNION ALL Syntax:\n",
    "```sql\n",
    "    SELECT column_name(s) FROM table_name1\n",
    "    UNION ALL\n",
    "    SELECT column_name(s) FROM table_name2\n",
    "```\n",
    "- PS: The column names in the result-set of a UNION are always equal to the column names in the\n",
    "first SELECT statement in the UNION.-"
   ]
  },
  {
   "cell_type": "markdown",
   "id": "38365a61-2cf7-4b0f-b5f1-0ad4fc7741cf",
   "metadata": {},
   "source": [
    "**The CREATE DATABASE Statement**"
   ]
  },
  {
   "cell_type": "markdown",
   "id": "36309c7a-c0c9-4616-bdd0-d2a9694d82fc",
   "metadata": {},
   "source": [
    "- The CREATE DATABASE statement is used to create a database.\n",
    "- SQL CREATE DATABASE Syntax:\n",
    "```sql\n",
    "    CREATE DATABASE database_nam\n",
    "```"
   ]
  },
  {
   "cell_type": "markdown",
   "id": "88ea1ea6-fa45-4334-a582-508c7decf77a",
   "metadata": {},
   "source": [
    "**CREATE DATABASE Example:**\n",
    "Now we want to create a database called \"my_db\".\n",
    "    \n",
    "We use the following CREATE DATABASE statement:\n",
    "\n",
    "CREATE DATABASE my_db\n",
    "\n",
    "Database tables can be added with the CREATE TABLE statement.\n",
    "    \n",
    "The CREATE TABLE Statement\n",
    "\n",
    "The CREATE TABLE statement is used to create a table in a database.\n",
    "    \n",
    "SQL CREATE TABLE Syntax:\n",
    "```sql\n",
    "    CREATE TABLE table_name\n",
    "    (\n",
    "    column_name1 data_type,\n",
    "    column_name2 data_type,\n",
    "    column_name3 data_type,\n",
    "    ....\n",
    "    )\n",
    "```"
   ]
  },
  {
   "cell_type": "markdown",
   "id": "8e324c23-96ac-4336-97f9-90497687a1f1",
   "metadata": {},
   "source": [
    "The data type specifies what type of data the column can hold. For a complete reference of all the data\n",
    "types available in MS Access, MySQL, and SQL Server."
   ]
  },
  {
   "cell_type": "markdown",
   "id": "6f5485af-e3f9-4f18-b270-6cdfd59d764e",
   "metadata": {},
   "source": [
    "**● GROUP BY**\n",
    "\n",
    "The GROUP BY clause in SQL is used to group rows from a table based on one or more\n",
    "columns."
   ]
  },
  {
   "cell_type": "code",
   "execution_count": null,
   "id": "e314c23e-4067-465c-99cc-90895eadf647",
   "metadata": {},
   "outputs": [],
   "source": []
  }
 ],
 "metadata": {
  "kernelspec": {
   "display_name": "Python 3 (ipykernel)",
   "language": "python",
   "name": "python3"
  },
  "language_info": {
   "codemirror_mode": {
    "name": "ipython",
    "version": 3
   },
   "file_extension": ".py",
   "mimetype": "text/x-python",
   "name": "python",
   "nbconvert_exporter": "python",
   "pygments_lexer": "ipython3",
   "version": "3.11.9"
  }
 },
 "nbformat": 4,
 "nbformat_minor": 5
}
